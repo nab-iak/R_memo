{
 "cells": [
  {
   "cell_type": "markdown",
   "metadata": {},
   "source": [
    "由于jupyter notebook的shell实在过于垃圾  \n",
    "所以shell的代码全部放到.sh里面得了  \n",
    "使用前记得chmod +x file_name.sh"
   ]
  },
  {
   "cell_type": "code",
   "execution_count": 5,
   "metadata": {
    "vscode": {
     "languageId": "r"
    }
   },
   "outputs": [],
   "source": [
    "t1_path <- getwd() |> paste(\"/data/GSE166047_RAW/GSM5060703_NW1_S1.dat\",sep=\"\") |> file.path()"
   ]
  },
  {
   "cell_type": "code",
   "execution_count": 6,
   "metadata": {
    "vscode": {
     "languageId": "r"
    }
   },
   "outputs": [
    {
     "data": {
      "text/html": [
       "<table class=\"dataframe\">\n",
       "<caption>A data.frame: 6 x 10</caption>\n",
       "<thead>\n",
       "\t<tr><th></th><th scope=col>V1</th><th scope=col>V2</th><th scope=col>V3</th><th scope=col>V4</th><th scope=col>V5</th><th scope=col>V6</th><th scope=col>V7</th><th scope=col>V8</th><th scope=col>V9</th><th scope=col>V10</th></tr>\n",
       "\t<tr><th></th><th scope=col>&lt;chr&gt;</th><th scope=col>&lt;chr&gt;</th><th scope=col>&lt;chr&gt;</th><th scope=col>&lt;chr&gt;</th><th scope=col>&lt;chr&gt;</th><th scope=col>&lt;chr&gt;</th><th scope=col>&lt;chr&gt;</th><th scope=col>&lt;chr&gt;</th><th scope=col>&lt;chr&gt;</th><th scope=col>&lt;chr&gt;</th></tr>\n",
       "</thead>\n",
       "<tbody>\n",
       "\t<tr><th scope=row>1</th><td>gene_ID        </td><td>gene_name</td><td>locus                </td><td>frags_locus</td><td>frags_expt</td><td>FPKM_THN </td><td>comp_frags_locus</td><td>comp_frags_expt</td><td>FPKM_CHN </td><td>status</td></tr>\n",
       "\t<tr><th scope=row>2</th><td>ENSG00000000003</td><td>TSPAN6   </td><td>X:100627109-100639991</td><td>362        </td><td>13388472  </td><td>13.223452</td><td>333             </td><td>8028726        </td><td>20.284527</td><td>OK    </td></tr>\n",
       "\t<tr><th scope=row>3</th><td>ENSG00000000005</td><td>TNMD     </td><td>X:100584802-100599885</td><td>399        </td><td>13388472  </td><td>31.987774</td><td>326             </td><td>8028726        </td><td>43.582596</td><td>OK    </td></tr>\n",
       "\t<tr><th scope=row>4</th><td>ENSG00000000419</td><td>DPM1     </td><td>20:50934867-50958555 </td><td>339        </td><td>13388472  </td><td>25.697676</td><td>166             </td><td>8028726        </td><td>20.983920</td><td>OK    </td></tr>\n",
       "\t<tr><th scope=row>5</th><td>ENSG00000000457</td><td>SCYL3    </td><td>1:169849631-169894267</td><td>329        </td><td>13388472  </td><td>7.143470 </td><td>158             </td><td>8028726        </td><td>5.720774 </td><td>OK    </td></tr>\n",
       "\t<tr><th scope=row>6</th><td>ENSG00000000460</td><td>C1orf112 </td><td>1:169662007-169854080</td><td>536        </td><td>13388472  </td><td>18.726680</td><td>46              </td><td>8028726        </td><td>2.680021 </td><td>OK    </td></tr>\n",
       "</tbody>\n",
       "</table>\n"
      ],
      "text/latex": [
       "A data.frame: 6 x 10\n",
       "\\begin{tabular}{r|llllllllll}\n",
       "  & V1 & V2 & V3 & V4 & V5 & V6 & V7 & V8 & V9 & V10\\\\\n",
       "  & <chr> & <chr> & <chr> & <chr> & <chr> & <chr> & <chr> & <chr> & <chr> & <chr>\\\\\n",
       "\\hline\n",
       "\t1 & gene\\_ID         & gene\\_name & locus                 & frags\\_locus & frags\\_expt & FPKM\\_THN  & comp\\_frags\\_locus & comp\\_frags\\_expt & FPKM\\_CHN  & status\\\\\n",
       "\t2 & ENSG00000000003 & TSPAN6    & X:100627109-100639991 & 362         & 13388472   & 13.223452 & 333              & 8028726         & 20.284527 & OK    \\\\\n",
       "\t3 & ENSG00000000005 & TNMD      & X:100584802-100599885 & 399         & 13388472   & 31.987774 & 326              & 8028726         & 43.582596 & OK    \\\\\n",
       "\t4 & ENSG00000000419 & DPM1      & 20:50934867-50958555  & 339         & 13388472   & 25.697676 & 166              & 8028726         & 20.983920 & OK    \\\\\n",
       "\t5 & ENSG00000000457 & SCYL3     & 1:169849631-169894267 & 329         & 13388472   & 7.143470  & 158              & 8028726         & 5.720774  & OK    \\\\\n",
       "\t6 & ENSG00000000460 & C1orf112  & 1:169662007-169854080 & 536         & 13388472   & 18.726680 & 46               & 8028726         & 2.680021  & OK    \\\\\n",
       "\\end{tabular}\n"
      ],
      "text/markdown": [
       "\n",
       "A data.frame: 6 x 10\n",
       "\n",
       "| <!--/--> | V1 &lt;chr&gt; | V2 &lt;chr&gt; | V3 &lt;chr&gt; | V4 &lt;chr&gt; | V5 &lt;chr&gt; | V6 &lt;chr&gt; | V7 &lt;chr&gt; | V8 &lt;chr&gt; | V9 &lt;chr&gt; | V10 &lt;chr&gt; |\n",
       "|---|---|---|---|---|---|---|---|---|---|---|\n",
       "| 1 | gene_ID         | gene_name | locus                 | frags_locus | frags_expt | FPKM_THN  | comp_frags_locus | comp_frags_expt | FPKM_CHN  | status |\n",
       "| 2 | ENSG00000000003 | TSPAN6    | X:100627109-100639991 | 362         | 13388472   | 13.223452 | 333              | 8028726         | 20.284527 | OK     |\n",
       "| 3 | ENSG00000000005 | TNMD      | X:100584802-100599885 | 399         | 13388472   | 31.987774 | 326              | 8028726         | 43.582596 | OK     |\n",
       "| 4 | ENSG00000000419 | DPM1      | 20:50934867-50958555  | 339         | 13388472   | 25.697676 | 166              | 8028726         | 20.983920 | OK     |\n",
       "| 5 | ENSG00000000457 | SCYL3     | 1:169849631-169894267 | 329         | 13388472   | 7.143470  | 158              | 8028726         | 5.720774  | OK     |\n",
       "| 6 | ENSG00000000460 | C1orf112  | 1:169662007-169854080 | 536         | 13388472   | 18.726680 | 46               | 8028726         | 2.680021  | OK     |\n",
       "\n"
      ],
      "text/plain": [
       "  V1              V2        V3                    V4          V5        \n",
       "1 gene_ID         gene_name locus                 frags_locus frags_expt\n",
       "2 ENSG00000000003 TSPAN6    X:100627109-100639991 362         13388472  \n",
       "3 ENSG00000000005 TNMD      X:100584802-100599885 399         13388472  \n",
       "4 ENSG00000000419 DPM1      20:50934867-50958555  339         13388472  \n",
       "5 ENSG00000000457 SCYL3     1:169849631-169894267 329         13388472  \n",
       "6 ENSG00000000460 C1orf112  1:169662007-169854080 536         13388472  \n",
       "  V6        V7               V8              V9        V10   \n",
       "1 FPKM_THN  comp_frags_locus comp_frags_expt FPKM_CHN  status\n",
       "2 13.223452 333              8028726         20.284527 OK    \n",
       "3 31.987774 326              8028726         43.582596 OK    \n",
       "4 25.697676 166              8028726         20.983920 OK    \n",
       "5 7.143470  158              8028726         5.720774  OK    \n",
       "6 18.726680 46               8028726         2.680021  OK    "
      ]
     },
     "metadata": {},
     "output_type": "display_data"
    }
   ],
   "source": [
    "dt <- read.table(t1_path)\n",
    "head(dt)\n",
    "\n",
    "hisat2 -q -p 6 --dta -x /Volumes/WANs_SSD/DATABASE/his_ind/hg38/genome -1 /Volumes/WANs_SSD/WAN/RNA-seq/test1/data/trimmed/SRR13615654_1_val_1.fq -2 /Volumes/WANs_SSD/WAN/RNA-seq/test1/data/trimmed/SRR13615654_2_val_2.fq -S /Volumes/WANs_SSD/WAN/RNA-seq/test1/data/mapped/SRR13615654.sam"
   ]
  }
 ],
 "metadata": {
  "kernelspec": {
   "display_name": "R",
   "language": "R",
   "name": "ir"
  },
  "language_info": {
   "codemirror_mode": "r",
   "file_extension": ".r",
   "mimetype": "text/x-r-source",
   "name": "R",
   "pygments_lexer": "r",
   "version": "4.2.2"
  },
  "orig_nbformat": 4
 },
 "nbformat": 4,
 "nbformat_minor": 2
}
