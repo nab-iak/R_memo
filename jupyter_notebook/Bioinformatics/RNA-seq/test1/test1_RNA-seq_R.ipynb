{
 "cells": [
  {
   "cell_type": "markdown",
   "metadata": {},
   "source": [
    "由于jupyter notebook的shell实在过于垃圾  \n",
    "所以shell的代码全部放到.sh里面得了  \n",
    "使用前记得chmod +x file_name.sh"
   ]
  },
  {
   "cell_type": "code",
   "execution_count": 38,
   "metadata": {
    "vscode": {
     "languageId": "powershell"
    }
   },
   "outputs": [
    {
     "name": "stdout",
     "output_type": "stream",
     "text": [
      "./shell_script/1_sra_to_fastq.sh: line 5: fasterq-dump: command not found\n",
      "./shell_script/1_sra_to_fastq.sh: line 5: fasterq-dump: command not found\n"
     ]
    }
   ],
   "source": [
    "!bash ./shell_script/1_sra_to_fastq.sh"
   ]
  }
 ],
 "metadata": {
  "kernelspec": {
   "display_name": "Python 3",
   "language": "python",
   "name": "python3"
  },
  "language_info": {
   "codemirror_mode": {
    "name": "ipython",
    "version": 3
   },
   "file_extension": ".py",
   "mimetype": "text/x-python",
   "name": "python",
   "nbconvert_exporter": "python",
   "pygments_lexer": "ipython3",
   "version": "3.11.2"
  },
  "orig_nbformat": 4
 },
 "nbformat": 4,
 "nbformat_minor": 2
}
