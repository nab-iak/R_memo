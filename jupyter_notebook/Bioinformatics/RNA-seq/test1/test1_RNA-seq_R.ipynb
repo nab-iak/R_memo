{
 "cells": [
  {
   "cell_type": "markdown",
   "metadata": {},
   "source": [
    "由于jupyter notebook的shell实在过于垃圾  \n",
    "所以shell的代码全部放到.sh里面得了  \n",
    "使用前记得chmod +x file_name.sh"
   ]
  },
  {
   "cell_type": "markdown",
   "metadata": {},
   "source": [
    "# 从上游文件SRA开始的分析\n",
    "---"
   ]
  },
  {
   "cell_type": "markdown",
   "metadata": {},
   "source": [
    "Shell脚本 jupyter_notebook/Bioinformatics/RNA-seq/test1/shell_script  \n",
    "结果 jupyter_notebook/Bioinformatics/RNA-seq/test1/data/stringtied"
   ]
  },
  {
   "cell_type": "code",
   "execution_count": 16,
   "metadata": {
    "vscode": {
     "languageId": "r"
    }
   },
   "outputs": [
    {
     "name": "stderr",
     "output_type": "stream",
     "text": [
      "-- \u001b[1mAttaching core tidyverse packages\u001b[22m ------------------------ tidyverse 2.0.0 --\n",
      "\u001b[32mv\u001b[39m \u001b[34mdplyr    \u001b[39m 1.1.2     \u001b[32mv\u001b[39m \u001b[34mreadr    \u001b[39m 2.1.4\n",
      "\u001b[32mv\u001b[39m \u001b[34mforcats  \u001b[39m 1.0.0     \u001b[32mv\u001b[39m \u001b[34mstringr  \u001b[39m 1.5.0\n",
      "\u001b[32mv\u001b[39m \u001b[34mggplot2  \u001b[39m 3.4.2     \u001b[32mv\u001b[39m \u001b[34mtibble   \u001b[39m 3.2.1\n",
      "\u001b[32mv\u001b[39m \u001b[34mlubridate\u001b[39m 1.9.2     \u001b[32mv\u001b[39m \u001b[34mtidyr    \u001b[39m 1.3.0\n",
      "\u001b[32mv\u001b[39m \u001b[34mpurrr    \u001b[39m 1.0.1     \n",
      "-- \u001b[1mConflicts\u001b[22m ------------------------------------------ tidyverse_conflicts() --\n",
      "\u001b[31mx\u001b[39m \u001b[34mdplyr\u001b[39m::\u001b[32mfilter()\u001b[39m masks \u001b[34mstats\u001b[39m::filter()\n",
      "\u001b[31mx\u001b[39m \u001b[34mdplyr\u001b[39m::\u001b[32mlag()\u001b[39m    masks \u001b[34mstats\u001b[39m::lag()\n",
      "\u001b[36mi\u001b[39m Use the conflicted package (\u001b[3m\u001b[34m<http://conflicted.r-lib.org/>\u001b[39m\u001b[23m) to force all conflicts to become errors\n",
      "Loading required package: S4Vectors\n",
      "\n",
      "Loading required package: stats4\n",
      "\n",
      "Loading required package: BiocGenerics\n",
      "\n",
      "\n",
      "Attaching package: 'BiocGenerics'\n",
      "\n",
      "\n",
      "The following objects are masked from 'package:lubridate':\n",
      "\n",
      "    intersect, setdiff, union\n",
      "\n",
      "\n",
      "The following objects are masked from 'package:dplyr':\n",
      "\n",
      "    combine, intersect, setdiff, union\n",
      "\n",
      "\n",
      "The following objects are masked from 'package:stats':\n",
      "\n",
      "    IQR, mad, sd, var, xtabs\n",
      "\n",
      "\n",
      "The following objects are masked from 'package:base':\n",
      "\n",
      "    Filter, Find, Map, Position, Reduce, anyDuplicated, append,\n",
      "    as.data.frame, basename, cbind, colnames, dirname, do.call,\n",
      "    duplicated, eval, evalq, get, grep, grepl, intersect, is.unsorted,\n",
      "    lapply, mapply, match, mget, order, paste, pmax, pmax.int, pmin,\n",
      "    pmin.int, rank, rbind, rownames, sapply, setdiff, sort, table,\n",
      "    tapply, union, unique, unsplit, which.max, which.min\n",
      "\n",
      "\n",
      "\n",
      "Attaching package: 'S4Vectors'\n",
      "\n",
      "\n",
      "The following objects are masked from 'package:lubridate':\n",
      "\n",
      "    second, second<-\n",
      "\n",
      "\n",
      "The following objects are masked from 'package:dplyr':\n",
      "\n",
      "    first, rename\n",
      "\n",
      "\n",
      "The following object is masked from 'package:tidyr':\n",
      "\n",
      "    expand\n",
      "\n",
      "\n",
      "The following objects are masked from 'package:base':\n",
      "\n",
      "    I, expand.grid, unname\n",
      "\n",
      "\n",
      "Loading required package: IRanges\n",
      "\n",
      "\n",
      "Attaching package: 'IRanges'\n",
      "\n",
      "\n",
      "The following object is masked from 'package:lubridate':\n",
      "\n",
      "    %within%\n",
      "\n",
      "\n",
      "The following objects are masked from 'package:dplyr':\n",
      "\n",
      "    collapse, desc, slice\n",
      "\n",
      "\n",
      "The following object is masked from 'package:purrr':\n",
      "\n",
      "    reduce\n",
      "\n",
      "\n",
      "Loading required package: GenomicRanges\n",
      "\n",
      "Loading required package: GenomeInfoDb\n",
      "\n",
      "Loading required package: SummarizedExperiment\n",
      "\n",
      "Loading required package: MatrixGenerics\n",
      "\n",
      "Loading required package: matrixStats\n",
      "\n",
      "\n",
      "Attaching package: 'matrixStats'\n",
      "\n",
      "\n",
      "The following object is masked from 'package:dplyr':\n",
      "\n",
      "    count\n",
      "\n",
      "\n",
      "\n",
      "Attaching package: 'MatrixGenerics'\n",
      "\n",
      "\n",
      "The following objects are masked from 'package:matrixStats':\n",
      "\n",
      "    colAlls, colAnyNAs, colAnys, colAvgsPerRowSet, colCollapse,\n",
      "    colCounts, colCummaxs, colCummins, colCumprods, colCumsums,\n",
      "    colDiffs, colIQRDiffs, colIQRs, colLogSumExps, colMadDiffs,\n",
      "    colMads, colMaxs, colMeans2, colMedians, colMins, colOrderStats,\n",
      "    colProds, colQuantiles, colRanges, colRanks, colSdDiffs, colSds,\n",
      "    colSums2, colTabulates, colVarDiffs, colVars, colWeightedMads,\n",
      "    colWeightedMeans, colWeightedMedians, colWeightedSds,\n",
      "    colWeightedVars, rowAlls, rowAnyNAs, rowAnys, rowAvgsPerColSet,\n",
      "    rowCollapse, rowCounts, rowCummaxs, rowCummins, rowCumprods,\n",
      "    rowCumsums, rowDiffs, rowIQRDiffs, rowIQRs, rowLogSumExps,\n",
      "    rowMadDiffs, rowMads, rowMaxs, rowMeans2, rowMedians, rowMins,\n",
      "    rowOrderStats, rowProds, rowQuantiles, rowRanges, rowRanks,\n",
      "    rowSdDiffs, rowSds, rowSums2, rowTabulates, rowVarDiffs, rowVars,\n",
      "    rowWeightedMads, rowWeightedMeans, rowWeightedMedians,\n",
      "    rowWeightedSds, rowWeightedVars\n",
      "\n",
      "\n",
      "Loading required package: Biobase\n",
      "\n",
      "Welcome to Bioconductor\n",
      "\n",
      "    Vignettes contain introductory material; view with\n",
      "    'browseVignettes()'. To cite Bioconductor, see\n",
      "    'citation(\"Biobase\")', and for packages 'citation(\"pkgname\")'.\n",
      "\n",
      "\n",
      "\n",
      "Attaching package: 'Biobase'\n",
      "\n",
      "\n",
      "The following object is masked from 'package:MatrixGenerics':\n",
      "\n",
      "    rowMedians\n",
      "\n",
      "\n",
      "The following objects are masked from 'package:matrixStats':\n",
      "\n",
      "    anyMissing, rowMedians\n",
      "\n",
      "\n"
     ]
    }
   ],
   "source": [
    "library(tidyverse)\n",
    "library(ggplot2)\n",
    "library(DESeq2)"
   ]
  },
  {
   "cell_type": "code",
   "execution_count": 10,
   "metadata": {
    "vscode": {
     "languageId": "r"
    }
   },
   "outputs": [
    {
     "data": {
      "text/html": [
       "<table class=\"dataframe\">\n",
       "<caption>A data.frame: 6 x 20</caption>\n",
       "<thead>\n",
       "\t<tr><th></th><th scope=col>normal_female_health_1</th><th scope=col>normal_female_health_2</th><th scope=col>normal_female_health_3</th><th scope=col>normal_female_health_4</th><th scope=col>normal_female_health_5</th><th scope=col>obesity_female_T2D_1</th><th scope=col>obesity_female_T2D_2</th><th scope=col>obesity_female_T2D_3</th><th scope=col>obesity_female_T2D_4</th><th scope=col>obesity_female_T2D_5</th><th scope=col>obesity_female_health_1</th><th scope=col>obesity_female_health_2</th><th scope=col>obesity_female_health_3</th><th scope=col>obesity_female_health_4</th><th scope=col>obesity_female_health_5</th><th scope=col>obesity_male_health_1</th><th scope=col>obesity_male_health_2</th><th scope=col>obesity_male_health_3</th><th scope=col>obesity_male_health_4</th><th scope=col>obesity_male_health_5</th></tr>\n",
       "\t<tr><th></th><th scope=col>&lt;int&gt;</th><th scope=col>&lt;int&gt;</th><th scope=col>&lt;int&gt;</th><th scope=col>&lt;int&gt;</th><th scope=col>&lt;int&gt;</th><th scope=col>&lt;int&gt;</th><th scope=col>&lt;int&gt;</th><th scope=col>&lt;int&gt;</th><th scope=col>&lt;int&gt;</th><th scope=col>&lt;int&gt;</th><th scope=col>&lt;int&gt;</th><th scope=col>&lt;int&gt;</th><th scope=col>&lt;int&gt;</th><th scope=col>&lt;int&gt;</th><th scope=col>&lt;int&gt;</th><th scope=col>&lt;int&gt;</th><th scope=col>&lt;int&gt;</th><th scope=col>&lt;int&gt;</th><th scope=col>&lt;int&gt;</th><th scope=col>&lt;int&gt;</th></tr>\n",
       "</thead>\n",
       "<tbody>\n",
       "\t<tr><th scope=row>ENSG00000223972.6|DDX11L1</th><td> 0</td><td> 0</td><td> 0</td><td>  0</td><td> 0</td><td> 0</td><td> 0</td><td> 0</td><td> 0</td><td> 0</td><td> 0</td><td> 0</td><td> 0</td><td> 0</td><td> 0</td><td> 0</td><td> 0</td><td> 0</td><td> 0</td><td>  0</td></tr>\n",
       "\t<tr><th scope=row>ENSG00000243485.5|MIR1302-2HG</th><td> 0</td><td> 0</td><td> 0</td><td>  3</td><td> 2</td><td> 0</td><td> 4</td><td> 0</td><td> 0</td><td> 0</td><td> 7</td><td> 0</td><td> 2</td><td> 0</td><td> 0</td><td> 0</td><td> 5</td><td> 1</td><td>11</td><td>  3</td></tr>\n",
       "\t<tr><th scope=row>ENSG00000284332.1|MIR1302-2</th><td> 0</td><td> 0</td><td> 0</td><td>  1</td><td> 0</td><td> 0</td><td> 0</td><td> 0</td><td> 0</td><td> 0</td><td> 1</td><td> 0</td><td> 1</td><td> 0</td><td> 0</td><td> 0</td><td> 1</td><td> 0</td><td> 1</td><td>  0</td></tr>\n",
       "\t<tr><th scope=row>ENSG00000290825.1|DDX11L2</th><td> 3</td><td> 6</td><td> 8</td><td> 27</td><td>21</td><td> 8</td><td> 7</td><td> 1</td><td> 4</td><td> 0</td><td>27</td><td> 5</td><td>25</td><td> 4</td><td> 5</td><td> 3</td><td>14</td><td> 2</td><td>21</td><td> 17</td></tr>\n",
       "\t<tr><th scope=row>ENSG00000227232.5|WASH7P</th><td>40</td><td>50</td><td>55</td><td>175</td><td>30</td><td>56</td><td>39</td><td>26</td><td>52</td><td>24</td><td>25</td><td>64</td><td>53</td><td>62</td><td>33</td><td>57</td><td>41</td><td>67</td><td>28</td><td>249</td></tr>\n",
       "\t<tr><th scope=row>ENSG00000278267.1|MIR6859-1</th><td> 2</td><td> 2</td><td> 3</td><td>  1</td><td> 1</td><td> 2</td><td> 1</td><td> 0</td><td> 1</td><td> 1</td><td> 2</td><td> 2</td><td> 5</td><td> 2</td><td> 1</td><td> 2</td><td> 2</td><td> 2</td><td> 2</td><td>  6</td></tr>\n",
       "</tbody>\n",
       "</table>\n"
      ],
      "text/latex": [
       "A data.frame: 6 x 20\n",
       "\\begin{tabular}{r|llllllllllllllllllll}\n",
       "  & normal\\_female\\_health\\_1 & normal\\_female\\_health\\_2 & normal\\_female\\_health\\_3 & normal\\_female\\_health\\_4 & normal\\_female\\_health\\_5 & obesity\\_female\\_T2D\\_1 & obesity\\_female\\_T2D\\_2 & obesity\\_female\\_T2D\\_3 & obesity\\_female\\_T2D\\_4 & obesity\\_female\\_T2D\\_5 & obesity\\_female\\_health\\_1 & obesity\\_female\\_health\\_2 & obesity\\_female\\_health\\_3 & obesity\\_female\\_health\\_4 & obesity\\_female\\_health\\_5 & obesity\\_male\\_health\\_1 & obesity\\_male\\_health\\_2 & obesity\\_male\\_health\\_3 & obesity\\_male\\_health\\_4 & obesity\\_male\\_health\\_5\\\\\n",
       "  & <int> & <int> & <int> & <int> & <int> & <int> & <int> & <int> & <int> & <int> & <int> & <int> & <int> & <int> & <int> & <int> & <int> & <int> & <int> & <int>\\\\\n",
       "\\hline\n",
       "\tENSG00000223972.6\\textbar{}DDX11L1 &  0 &  0 &  0 &   0 &  0 &  0 &  0 &  0 &  0 &  0 &  0 &  0 &  0 &  0 &  0 &  0 &  0 &  0 &  0 &   0\\\\\n",
       "\tENSG00000243485.5\\textbar{}MIR1302-2HG &  0 &  0 &  0 &   3 &  2 &  0 &  4 &  0 &  0 &  0 &  7 &  0 &  2 &  0 &  0 &  0 &  5 &  1 & 11 &   3\\\\\n",
       "\tENSG00000284332.1\\textbar{}MIR1302-2 &  0 &  0 &  0 &   1 &  0 &  0 &  0 &  0 &  0 &  0 &  1 &  0 &  1 &  0 &  0 &  0 &  1 &  0 &  1 &   0\\\\\n",
       "\tENSG00000290825.1\\textbar{}DDX11L2 &  3 &  6 &  8 &  27 & 21 &  8 &  7 &  1 &  4 &  0 & 27 &  5 & 25 &  4 &  5 &  3 & 14 &  2 & 21 &  17\\\\\n",
       "\tENSG00000227232.5\\textbar{}WASH7P & 40 & 50 & 55 & 175 & 30 & 56 & 39 & 26 & 52 & 24 & 25 & 64 & 53 & 62 & 33 & 57 & 41 & 67 & 28 & 249\\\\\n",
       "\tENSG00000278267.1\\textbar{}MIR6859-1 &  2 &  2 &  3 &   1 &  1 &  2 &  1 &  0 &  1 &  1 &  2 &  2 &  5 &  2 &  1 &  2 &  2 &  2 &  2 &   6\\\\\n",
       "\\end{tabular}\n"
      ],
      "text/markdown": [
       "\n",
       "A data.frame: 6 x 20\n",
       "\n",
       "| <!--/--> | normal_female_health_1 &lt;int&gt; | normal_female_health_2 &lt;int&gt; | normal_female_health_3 &lt;int&gt; | normal_female_health_4 &lt;int&gt; | normal_female_health_5 &lt;int&gt; | obesity_female_T2D_1 &lt;int&gt; | obesity_female_T2D_2 &lt;int&gt; | obesity_female_T2D_3 &lt;int&gt; | obesity_female_T2D_4 &lt;int&gt; | obesity_female_T2D_5 &lt;int&gt; | obesity_female_health_1 &lt;int&gt; | obesity_female_health_2 &lt;int&gt; | obesity_female_health_3 &lt;int&gt; | obesity_female_health_4 &lt;int&gt; | obesity_female_health_5 &lt;int&gt; | obesity_male_health_1 &lt;int&gt; | obesity_male_health_2 &lt;int&gt; | obesity_male_health_3 &lt;int&gt; | obesity_male_health_4 &lt;int&gt; | obesity_male_health_5 &lt;int&gt; |\n",
       "|---|---|---|---|---|---|---|---|---|---|---|---|---|---|---|---|---|---|---|---|---|\n",
       "| ENSG00000223972.6|DDX11L1 |  0 |  0 |  0 |   0 |  0 |  0 |  0 |  0 |  0 |  0 |  0 |  0 |  0 |  0 |  0 |  0 |  0 |  0 |  0 |   0 |\n",
       "| ENSG00000243485.5|MIR1302-2HG |  0 |  0 |  0 |   3 |  2 |  0 |  4 |  0 |  0 |  0 |  7 |  0 |  2 |  0 |  0 |  0 |  5 |  1 | 11 |   3 |\n",
       "| ENSG00000284332.1|MIR1302-2 |  0 |  0 |  0 |   1 |  0 |  0 |  0 |  0 |  0 |  0 |  1 |  0 |  1 |  0 |  0 |  0 |  1 |  0 |  1 |   0 |\n",
       "| ENSG00000290825.1|DDX11L2 |  3 |  6 |  8 |  27 | 21 |  8 |  7 |  1 |  4 |  0 | 27 |  5 | 25 |  4 |  5 |  3 | 14 |  2 | 21 |  17 |\n",
       "| ENSG00000227232.5|WASH7P | 40 | 50 | 55 | 175 | 30 | 56 | 39 | 26 | 52 | 24 | 25 | 64 | 53 | 62 | 33 | 57 | 41 | 67 | 28 | 249 |\n",
       "| ENSG00000278267.1|MIR6859-1 |  2 |  2 |  3 |   1 |  1 |  2 |  1 |  0 |  1 |  1 |  2 |  2 |  5 |  2 |  1 |  2 |  2 |  2 |  2 |   6 |\n",
       "\n"
      ],
      "text/plain": [
       "                              normal_female_health_1 normal_female_health_2\n",
       "ENSG00000223972.6|DDX11L1      0                      0                    \n",
       "ENSG00000243485.5|MIR1302-2HG  0                      0                    \n",
       "ENSG00000284332.1|MIR1302-2    0                      0                    \n",
       "ENSG00000290825.1|DDX11L2      3                      6                    \n",
       "ENSG00000227232.5|WASH7P      40                     50                    \n",
       "ENSG00000278267.1|MIR6859-1    2                      2                    \n",
       "                              normal_female_health_3 normal_female_health_4\n",
       "ENSG00000223972.6|DDX11L1      0                       0                   \n",
       "ENSG00000243485.5|MIR1302-2HG  0                       3                   \n",
       "ENSG00000284332.1|MIR1302-2    0                       1                   \n",
       "ENSG00000290825.1|DDX11L2      8                      27                   \n",
       "ENSG00000227232.5|WASH7P      55                     175                   \n",
       "ENSG00000278267.1|MIR6859-1    3                       1                   \n",
       "                              normal_female_health_5 obesity_female_T2D_1\n",
       "ENSG00000223972.6|DDX11L1      0                      0                  \n",
       "ENSG00000243485.5|MIR1302-2HG  2                      0                  \n",
       "ENSG00000284332.1|MIR1302-2    0                      0                  \n",
       "ENSG00000290825.1|DDX11L2     21                      8                  \n",
       "ENSG00000227232.5|WASH7P      30                     56                  \n",
       "ENSG00000278267.1|MIR6859-1    1                      2                  \n",
       "                              obesity_female_T2D_2 obesity_female_T2D_3\n",
       "ENSG00000223972.6|DDX11L1      0                    0                  \n",
       "ENSG00000243485.5|MIR1302-2HG  4                    0                  \n",
       "ENSG00000284332.1|MIR1302-2    0                    0                  \n",
       "ENSG00000290825.1|DDX11L2      7                    1                  \n",
       "ENSG00000227232.5|WASH7P      39                   26                  \n",
       "ENSG00000278267.1|MIR6859-1    1                    0                  \n",
       "                              obesity_female_T2D_4 obesity_female_T2D_5\n",
       "ENSG00000223972.6|DDX11L1      0                    0                  \n",
       "ENSG00000243485.5|MIR1302-2HG  0                    0                  \n",
       "ENSG00000284332.1|MIR1302-2    0                    0                  \n",
       "ENSG00000290825.1|DDX11L2      4                    0                  \n",
       "ENSG00000227232.5|WASH7P      52                   24                  \n",
       "ENSG00000278267.1|MIR6859-1    1                    1                  \n",
       "                              obesity_female_health_1 obesity_female_health_2\n",
       "ENSG00000223972.6|DDX11L1      0                       0                     \n",
       "ENSG00000243485.5|MIR1302-2HG  7                       0                     \n",
       "ENSG00000284332.1|MIR1302-2    1                       0                     \n",
       "ENSG00000290825.1|DDX11L2     27                       5                     \n",
       "ENSG00000227232.5|WASH7P      25                      64                     \n",
       "ENSG00000278267.1|MIR6859-1    2                       2                     \n",
       "                              obesity_female_health_3 obesity_female_health_4\n",
       "ENSG00000223972.6|DDX11L1      0                       0                     \n",
       "ENSG00000243485.5|MIR1302-2HG  2                       0                     \n",
       "ENSG00000284332.1|MIR1302-2    1                       0                     \n",
       "ENSG00000290825.1|DDX11L2     25                       4                     \n",
       "ENSG00000227232.5|WASH7P      53                      62                     \n",
       "ENSG00000278267.1|MIR6859-1    5                       2                     \n",
       "                              obesity_female_health_5 obesity_male_health_1\n",
       "ENSG00000223972.6|DDX11L1      0                       0                   \n",
       "ENSG00000243485.5|MIR1302-2HG  0                       0                   \n",
       "ENSG00000284332.1|MIR1302-2    0                       0                   \n",
       "ENSG00000290825.1|DDX11L2      5                       3                   \n",
       "ENSG00000227232.5|WASH7P      33                      57                   \n",
       "ENSG00000278267.1|MIR6859-1    1                       2                   \n",
       "                              obesity_male_health_2 obesity_male_health_3\n",
       "ENSG00000223972.6|DDX11L1      0                     0                   \n",
       "ENSG00000243485.5|MIR1302-2HG  5                     1                   \n",
       "ENSG00000284332.1|MIR1302-2    1                     0                   \n",
       "ENSG00000290825.1|DDX11L2     14                     2                   \n",
       "ENSG00000227232.5|WASH7P      41                    67                   \n",
       "ENSG00000278267.1|MIR6859-1    2                     2                   \n",
       "                              obesity_male_health_4 obesity_male_health_5\n",
       "ENSG00000223972.6|DDX11L1      0                      0                  \n",
       "ENSG00000243485.5|MIR1302-2HG 11                      3                  \n",
       "ENSG00000284332.1|MIR1302-2    1                      0                  \n",
       "ENSG00000290825.1|DDX11L2     21                     17                  \n",
       "ENSG00000227232.5|WASH7P      28                    249                  \n",
       "ENSG00000278267.1|MIR6859-1    2                      6                  "
      ]
     },
     "metadata": {},
     "output_type": "display_data"
    }
   ],
   "source": [
    "test1_path <- getwd() |> paste(\"/data/stringtied/gene_count_matrix.csv\",sep=\"\") |> file.path()\n",
    "test1_dt <- read.csv(test1_path)\n",
    "rownames(test1_dt) <- test1_dt[,1]\n",
    "test1_dt <- test1_dt[,-1]\n",
    "head(test1_dt)"
   ]
  },
  {
   "cell_type": "code",
   "execution_count": 12,
   "metadata": {
    "vscode": {
     "languageId": "r"
    }
   },
   "outputs": [
    {
     "data": {
      "text/html": [
       "<table class=\"dataframe\">\n",
       "<caption>A data.frame: 20 x 3</caption>\n",
       "<thead>\n",
       "\t<tr><th></th><th scope=col>body</th><th scope=col>gender</th><th scope=col>disease</th></tr>\n",
       "\t<tr><th></th><th scope=col>&lt;chr&gt;</th><th scope=col>&lt;chr&gt;</th><th scope=col>&lt;chr&gt;</th></tr>\n",
       "</thead>\n",
       "<tbody>\n",
       "\t<tr><th scope=row>normal_female_health_1</th><td>normal </td><td>female</td><td>healthy</td></tr>\n",
       "\t<tr><th scope=row>normal_female_health_2</th><td>normal </td><td>female</td><td>healthy</td></tr>\n",
       "\t<tr><th scope=row>normal_female_health_3</th><td>normal </td><td>female</td><td>healthy</td></tr>\n",
       "\t<tr><th scope=row>normal_female_health_4</th><td>normal </td><td>female</td><td>healthy</td></tr>\n",
       "\t<tr><th scope=row>normal_female_health_5</th><td>normal </td><td>female</td><td>healthy</td></tr>\n",
       "\t<tr><th scope=row>obesity_female_T2D_1</th><td>obesity</td><td>female</td><td>T2D    </td></tr>\n",
       "\t<tr><th scope=row>obesity_female_T2D_2</th><td>obesity</td><td>female</td><td>T2D    </td></tr>\n",
       "\t<tr><th scope=row>obesity_female_T2D_3</th><td>obesity</td><td>female</td><td>T2D    </td></tr>\n",
       "\t<tr><th scope=row>obesity_female_T2D_4</th><td>obesity</td><td>female</td><td>T2D    </td></tr>\n",
       "\t<tr><th scope=row>obesity_female_T2D_5</th><td>obesity</td><td>female</td><td>T2D    </td></tr>\n",
       "\t<tr><th scope=row>obesity_female_health_1</th><td>obesity</td><td>female</td><td>healthy</td></tr>\n",
       "\t<tr><th scope=row>obesity_female_health_2</th><td>obesity</td><td>female</td><td>healthy</td></tr>\n",
       "\t<tr><th scope=row>obesity_female_health_3</th><td>obesity</td><td>female</td><td>healthy</td></tr>\n",
       "\t<tr><th scope=row>obesity_female_health_4</th><td>obesity</td><td>female</td><td>healthy</td></tr>\n",
       "\t<tr><th scope=row>obesity_female_health_5</th><td>obesity</td><td>female</td><td>healthy</td></tr>\n",
       "\t<tr><th scope=row>obesity_male_health_1</th><td>obesity</td><td>male  </td><td>healthy</td></tr>\n",
       "\t<tr><th scope=row>obesity_male_health_2</th><td>obesity</td><td>male  </td><td>healthy</td></tr>\n",
       "\t<tr><th scope=row>obesity_male_health_3</th><td>obesity</td><td>male  </td><td>healthy</td></tr>\n",
       "\t<tr><th scope=row>obesity_male_health_4</th><td>obesity</td><td>male  </td><td>healthy</td></tr>\n",
       "\t<tr><th scope=row>obesity_male_health_5</th><td>obesity</td><td>male  </td><td>healthy</td></tr>\n",
       "</tbody>\n",
       "</table>\n"
      ],
      "text/latex": [
       "A data.frame: 20 x 3\n",
       "\\begin{tabular}{r|lll}\n",
       "  & body & gender & disease\\\\\n",
       "  & <chr> & <chr> & <chr>\\\\\n",
       "\\hline\n",
       "\tnormal\\_female\\_health\\_1 & normal  & female & healthy\\\\\n",
       "\tnormal\\_female\\_health\\_2 & normal  & female & healthy\\\\\n",
       "\tnormal\\_female\\_health\\_3 & normal  & female & healthy\\\\\n",
       "\tnormal\\_female\\_health\\_4 & normal  & female & healthy\\\\\n",
       "\tnormal\\_female\\_health\\_5 & normal  & female & healthy\\\\\n",
       "\tobesity\\_female\\_T2D\\_1 & obesity & female & T2D    \\\\\n",
       "\tobesity\\_female\\_T2D\\_2 & obesity & female & T2D    \\\\\n",
       "\tobesity\\_female\\_T2D\\_3 & obesity & female & T2D    \\\\\n",
       "\tobesity\\_female\\_T2D\\_4 & obesity & female & T2D    \\\\\n",
       "\tobesity\\_female\\_T2D\\_5 & obesity & female & T2D    \\\\\n",
       "\tobesity\\_female\\_health\\_1 & obesity & female & healthy\\\\\n",
       "\tobesity\\_female\\_health\\_2 & obesity & female & healthy\\\\\n",
       "\tobesity\\_female\\_health\\_3 & obesity & female & healthy\\\\\n",
       "\tobesity\\_female\\_health\\_4 & obesity & female & healthy\\\\\n",
       "\tobesity\\_female\\_health\\_5 & obesity & female & healthy\\\\\n",
       "\tobesity\\_male\\_health\\_1 & obesity & male   & healthy\\\\\n",
       "\tobesity\\_male\\_health\\_2 & obesity & male   & healthy\\\\\n",
       "\tobesity\\_male\\_health\\_3 & obesity & male   & healthy\\\\\n",
       "\tobesity\\_male\\_health\\_4 & obesity & male   & healthy\\\\\n",
       "\tobesity\\_male\\_health\\_5 & obesity & male   & healthy\\\\\n",
       "\\end{tabular}\n"
      ],
      "text/markdown": [
       "\n",
       "A data.frame: 20 x 3\n",
       "\n",
       "| <!--/--> | body &lt;chr&gt; | gender &lt;chr&gt; | disease &lt;chr&gt; |\n",
       "|---|---|---|---|\n",
       "| normal_female_health_1 | normal  | female | healthy |\n",
       "| normal_female_health_2 | normal  | female | healthy |\n",
       "| normal_female_health_3 | normal  | female | healthy |\n",
       "| normal_female_health_4 | normal  | female | healthy |\n",
       "| normal_female_health_5 | normal  | female | healthy |\n",
       "| obesity_female_T2D_1 | obesity | female | T2D     |\n",
       "| obesity_female_T2D_2 | obesity | female | T2D     |\n",
       "| obesity_female_T2D_3 | obesity | female | T2D     |\n",
       "| obesity_female_T2D_4 | obesity | female | T2D     |\n",
       "| obesity_female_T2D_5 | obesity | female | T2D     |\n",
       "| obesity_female_health_1 | obesity | female | healthy |\n",
       "| obesity_female_health_2 | obesity | female | healthy |\n",
       "| obesity_female_health_3 | obesity | female | healthy |\n",
       "| obesity_female_health_4 | obesity | female | healthy |\n",
       "| obesity_female_health_5 | obesity | female | healthy |\n",
       "| obesity_male_health_1 | obesity | male   | healthy |\n",
       "| obesity_male_health_2 | obesity | male   | healthy |\n",
       "| obesity_male_health_3 | obesity | male   | healthy |\n",
       "| obesity_male_health_4 | obesity | male   | healthy |\n",
       "| obesity_male_health_5 | obesity | male   | healthy |\n",
       "\n"
      ],
      "text/plain": [
       "                        body    gender disease\n",
       "normal_female_health_1  normal  female healthy\n",
       "normal_female_health_2  normal  female healthy\n",
       "normal_female_health_3  normal  female healthy\n",
       "normal_female_health_4  normal  female healthy\n",
       "normal_female_health_5  normal  female healthy\n",
       "obesity_female_T2D_1    obesity female T2D    \n",
       "obesity_female_T2D_2    obesity female T2D    \n",
       "obesity_female_T2D_3    obesity female T2D    \n",
       "obesity_female_T2D_4    obesity female T2D    \n",
       "obesity_female_T2D_5    obesity female T2D    \n",
       "obesity_female_health_1 obesity female healthy\n",
       "obesity_female_health_2 obesity female healthy\n",
       "obesity_female_health_3 obesity female healthy\n",
       "obesity_female_health_4 obesity female healthy\n",
       "obesity_female_health_5 obesity female healthy\n",
       "obesity_male_health_1   obesity male   healthy\n",
       "obesity_male_health_2   obesity male   healthy\n",
       "obesity_male_health_3   obesity male   healthy\n",
       "obesity_male_health_4   obesity male   healthy\n",
       "obesity_male_health_5   obesity male   healthy"
      ]
     },
     "metadata": {},
     "output_type": "display_data"
    }
   ],
   "source": [
    "body <- c(\n",
    "    rep(\"normal\",5),\n",
    "    rep(\"obesity\",15)\n",
    "    )\n",
    "gender <- c(\n",
    "    rep(\"female\",15),\n",
    "    rep(\"male\",5)\n",
    "    )\n",
    "disease <- c(\n",
    "    rep(\"healthy\",5),\n",
    "    rep(\"T2D\",5),\n",
    "    rep(\"healthy\",10)\n",
    "    )\n",
    "meta <- data.frame(body,gender,disease)\n",
    "rownames(meta) <- colnames(test1_dt)\n",
    "meta"
   ]
  },
  {
   "cell_type": "markdown",
   "metadata": {},
   "source": [
    "这里的meta我是直接按照`gene_count_matrix.csv`的顺序生成的\n",
    "其实也可以先生成meta，然后把meta的行名用match()匹配matrix的列名重新排序\n",
    "\n",
    "matrix(目标顺序，当前顺序)"
   ]
  },
  {
   "cell_type": "code",
   "execution_count": 17,
   "metadata": {
    "vscode": {
     "languageId": "r"
    }
   },
   "outputs": [
    {
     "data": {
      "text/html": [
       "<table class=\"dataframe\">\n",
       "<caption>A data.frame: 20 x 3</caption>\n",
       "<thead>\n",
       "\t<tr><th></th><th scope=col>body</th><th scope=col>gender</th><th scope=col>disease</th></tr>\n",
       "\t<tr><th></th><th scope=col>&lt;chr&gt;</th><th scope=col>&lt;chr&gt;</th><th scope=col>&lt;chr&gt;</th></tr>\n",
       "</thead>\n",
       "<tbody>\n",
       "\t<tr><th scope=row>normal_female_health_1</th><td>normal </td><td>female</td><td>healthy</td></tr>\n",
       "\t<tr><th scope=row>normal_female_health_2</th><td>normal </td><td>female</td><td>healthy</td></tr>\n",
       "\t<tr><th scope=row>normal_female_health_3</th><td>normal </td><td>female</td><td>healthy</td></tr>\n",
       "\t<tr><th scope=row>normal_female_health_4</th><td>normal </td><td>female</td><td>healthy</td></tr>\n",
       "\t<tr><th scope=row>normal_female_health_5</th><td>normal </td><td>female</td><td>healthy</td></tr>\n",
       "\t<tr><th scope=row>obesity_female_T2D_1</th><td>obesity</td><td>female</td><td>T2D    </td></tr>\n",
       "\t<tr><th scope=row>obesity_female_T2D_2</th><td>obesity</td><td>female</td><td>T2D    </td></tr>\n",
       "\t<tr><th scope=row>obesity_female_T2D_3</th><td>obesity</td><td>female</td><td>T2D    </td></tr>\n",
       "\t<tr><th scope=row>obesity_female_T2D_4</th><td>obesity</td><td>female</td><td>T2D    </td></tr>\n",
       "\t<tr><th scope=row>obesity_female_T2D_5</th><td>obesity</td><td>female</td><td>T2D    </td></tr>\n",
       "\t<tr><th scope=row>obesity_female_health_1</th><td>obesity</td><td>female</td><td>healthy</td></tr>\n",
       "\t<tr><th scope=row>obesity_female_health_2</th><td>obesity</td><td>female</td><td>healthy</td></tr>\n",
       "\t<tr><th scope=row>obesity_female_health_3</th><td>obesity</td><td>female</td><td>healthy</td></tr>\n",
       "\t<tr><th scope=row>obesity_female_health_4</th><td>obesity</td><td>female</td><td>healthy</td></tr>\n",
       "\t<tr><th scope=row>obesity_female_health_5</th><td>obesity</td><td>female</td><td>healthy</td></tr>\n",
       "\t<tr><th scope=row>obesity_male_health_1</th><td>obesity</td><td>male  </td><td>healthy</td></tr>\n",
       "\t<tr><th scope=row>obesity_male_health_2</th><td>obesity</td><td>male  </td><td>healthy</td></tr>\n",
       "\t<tr><th scope=row>obesity_male_health_3</th><td>obesity</td><td>male  </td><td>healthy</td></tr>\n",
       "\t<tr><th scope=row>obesity_male_health_4</th><td>obesity</td><td>male  </td><td>healthy</td></tr>\n",
       "\t<tr><th scope=row>obesity_male_health_5</th><td>obesity</td><td>male  </td><td>healthy</td></tr>\n",
       "</tbody>\n",
       "</table>\n"
      ],
      "text/latex": [
       "A data.frame: 20 x 3\n",
       "\\begin{tabular}{r|lll}\n",
       "  & body & gender & disease\\\\\n",
       "  & <chr> & <chr> & <chr>\\\\\n",
       "\\hline\n",
       "\tnormal\\_female\\_health\\_1 & normal  & female & healthy\\\\\n",
       "\tnormal\\_female\\_health\\_2 & normal  & female & healthy\\\\\n",
       "\tnormal\\_female\\_health\\_3 & normal  & female & healthy\\\\\n",
       "\tnormal\\_female\\_health\\_4 & normal  & female & healthy\\\\\n",
       "\tnormal\\_female\\_health\\_5 & normal  & female & healthy\\\\\n",
       "\tobesity\\_female\\_T2D\\_1 & obesity & female & T2D    \\\\\n",
       "\tobesity\\_female\\_T2D\\_2 & obesity & female & T2D    \\\\\n",
       "\tobesity\\_female\\_T2D\\_3 & obesity & female & T2D    \\\\\n",
       "\tobesity\\_female\\_T2D\\_4 & obesity & female & T2D    \\\\\n",
       "\tobesity\\_female\\_T2D\\_5 & obesity & female & T2D    \\\\\n",
       "\tobesity\\_female\\_health\\_1 & obesity & female & healthy\\\\\n",
       "\tobesity\\_female\\_health\\_2 & obesity & female & healthy\\\\\n",
       "\tobesity\\_female\\_health\\_3 & obesity & female & healthy\\\\\n",
       "\tobesity\\_female\\_health\\_4 & obesity & female & healthy\\\\\n",
       "\tobesity\\_female\\_health\\_5 & obesity & female & healthy\\\\\n",
       "\tobesity\\_male\\_health\\_1 & obesity & male   & healthy\\\\\n",
       "\tobesity\\_male\\_health\\_2 & obesity & male   & healthy\\\\\n",
       "\tobesity\\_male\\_health\\_3 & obesity & male   & healthy\\\\\n",
       "\tobesity\\_male\\_health\\_4 & obesity & male   & healthy\\\\\n",
       "\tobesity\\_male\\_health\\_5 & obesity & male   & healthy\\\\\n",
       "\\end{tabular}\n"
      ],
      "text/markdown": [
       "\n",
       "A data.frame: 20 x 3\n",
       "\n",
       "| <!--/--> | body &lt;chr&gt; | gender &lt;chr&gt; | disease &lt;chr&gt; |\n",
       "|---|---|---|---|\n",
       "| normal_female_health_1 | normal  | female | healthy |\n",
       "| normal_female_health_2 | normal  | female | healthy |\n",
       "| normal_female_health_3 | normal  | female | healthy |\n",
       "| normal_female_health_4 | normal  | female | healthy |\n",
       "| normal_female_health_5 | normal  | female | healthy |\n",
       "| obesity_female_T2D_1 | obesity | female | T2D     |\n",
       "| obesity_female_T2D_2 | obesity | female | T2D     |\n",
       "| obesity_female_T2D_3 | obesity | female | T2D     |\n",
       "| obesity_female_T2D_4 | obesity | female | T2D     |\n",
       "| obesity_female_T2D_5 | obesity | female | T2D     |\n",
       "| obesity_female_health_1 | obesity | female | healthy |\n",
       "| obesity_female_health_2 | obesity | female | healthy |\n",
       "| obesity_female_health_3 | obesity | female | healthy |\n",
       "| obesity_female_health_4 | obesity | female | healthy |\n",
       "| obesity_female_health_5 | obesity | female | healthy |\n",
       "| obesity_male_health_1 | obesity | male   | healthy |\n",
       "| obesity_male_health_2 | obesity | male   | healthy |\n",
       "| obesity_male_health_3 | obesity | male   | healthy |\n",
       "| obesity_male_health_4 | obesity | male   | healthy |\n",
       "| obesity_male_health_5 | obesity | male   | healthy |\n",
       "\n"
      ],
      "text/plain": [
       "                        body    gender disease\n",
       "normal_female_health_1  normal  female healthy\n",
       "normal_female_health_2  normal  female healthy\n",
       "normal_female_health_3  normal  female healthy\n",
       "normal_female_health_4  normal  female healthy\n",
       "normal_female_health_5  normal  female healthy\n",
       "obesity_female_T2D_1    obesity female T2D    \n",
       "obesity_female_T2D_2    obesity female T2D    \n",
       "obesity_female_T2D_3    obesity female T2D    \n",
       "obesity_female_T2D_4    obesity female T2D    \n",
       "obesity_female_T2D_5    obesity female T2D    \n",
       "obesity_female_health_1 obesity female healthy\n",
       "obesity_female_health_2 obesity female healthy\n",
       "obesity_female_health_3 obesity female healthy\n",
       "obesity_female_health_4 obesity female healthy\n",
       "obesity_female_health_5 obesity female healthy\n",
       "obesity_male_health_1   obesity male   healthy\n",
       "obesity_male_health_2   obesity male   healthy\n",
       "obesity_male_health_3   obesity male   healthy\n",
       "obesity_male_health_4   obesity male   healthy\n",
       "obesity_male_health_5   obesity male   healthy"
      ]
     },
     "metadata": {},
     "output_type": "display_data"
    }
   ],
   "source": [
    "all(colnames(test1_dt)==rownames(meta)) # 检查顺序对不对，即使一个不对也会返还 FALSE\n",
    "\n",
    "idx <- match(colnames(test1_dt),rownames(meta))\n",
    "meta <- meta[idx,]\n",
    "meta"
   ]
  },
  {
   "cell_type": "markdown",
   "metadata": {},
   "source": [
    "创建一个表达差异基因(dds)的DEseq2项目"
   ]
  },
  {
   "cell_type": "code",
   "execution_count": 18,
   "metadata": {
    "vscode": {
     "languageId": "r"
    }
   },
   "outputs": [
    {
     "name": "stderr",
     "output_type": "stream",
     "text": [
      "Warning message in DESeqDataSet(se, design = design, ignoreRank):\n",
      "\"some variables in design formula are characters, converting to factors\"\n"
     ]
    }
   ],
   "source": [
    "dds_test1_dt <- DESeqDataSetFromMatrix(\n",
    "    countData = test1_dt,\n",
    "    colData = meta,\n",
    "    design = ~ body # 先用一个好了,等下再用两个和三个分别测试\n",
    ")"
   ]
  },
  {
   "cell_type": "markdown",
   "metadata": {},
   "source": [
    "标准化counts"
   ]
  },
  {
   "cell_type": "code",
   "execution_count": 21,
   "metadata": {
    "vscode": {
     "languageId": "r"
    }
   },
   "outputs": [],
   "source": [
    "dds_test1_dt <- estimateSizeFactors(dds_test1_dt)\n",
    "normalized_test1_counts <- counts(dds_test1_dt,normalized=TRUE)"
   ]
  },
  {
   "cell_type": "markdown",
   "metadata": {},
   "source": [
    "# 用自带的RAW数据分析\n",
    "---"
   ]
  },
  {
   "cell_type": "markdown",
   "metadata": {},
   "source": [
    "raw结果保存在 data/GSE166047_RAW/ 里面\n",
    "\n",
    "这里存在一个批量导入的问题"
   ]
  },
  {
   "cell_type": "code",
   "execution_count": 5,
   "metadata": {
    "vscode": {
     "languageId": "r"
    }
   },
   "outputs": [],
   "source": [
    "t1_path <- getwd() |> paste(\"/data/GSE166047_RAW/GSM5060703_NW1_S1.dat\",sep=\"\") |> file.path()"
   ]
  },
  {
   "cell_type": "code",
   "execution_count": 6,
   "metadata": {
    "vscode": {
     "languageId": "r"
    }
   },
   "outputs": [
    {
     "data": {
      "text/html": [
       "<table class=\"dataframe\">\n",
       "<caption>A data.frame: 6 x 10</caption>\n",
       "<thead>\n",
       "\t<tr><th></th><th scope=col>V1</th><th scope=col>V2</th><th scope=col>V3</th><th scope=col>V4</th><th scope=col>V5</th><th scope=col>V6</th><th scope=col>V7</th><th scope=col>V8</th><th scope=col>V9</th><th scope=col>V10</th></tr>\n",
       "\t<tr><th></th><th scope=col>&lt;chr&gt;</th><th scope=col>&lt;chr&gt;</th><th scope=col>&lt;chr&gt;</th><th scope=col>&lt;chr&gt;</th><th scope=col>&lt;chr&gt;</th><th scope=col>&lt;chr&gt;</th><th scope=col>&lt;chr&gt;</th><th scope=col>&lt;chr&gt;</th><th scope=col>&lt;chr&gt;</th><th scope=col>&lt;chr&gt;</th></tr>\n",
       "</thead>\n",
       "<tbody>\n",
       "\t<tr><th scope=row>1</th><td>gene_ID        </td><td>gene_name</td><td>locus                </td><td>frags_locus</td><td>frags_expt</td><td>FPKM_THN </td><td>comp_frags_locus</td><td>comp_frags_expt</td><td>FPKM_CHN </td><td>status</td></tr>\n",
       "\t<tr><th scope=row>2</th><td>ENSG00000000003</td><td>TSPAN6   </td><td>X:100627109-100639991</td><td>362        </td><td>13388472  </td><td>13.223452</td><td>333             </td><td>8028726        </td><td>20.284527</td><td>OK    </td></tr>\n",
       "\t<tr><th scope=row>3</th><td>ENSG00000000005</td><td>TNMD     </td><td>X:100584802-100599885</td><td>399        </td><td>13388472  </td><td>31.987774</td><td>326             </td><td>8028726        </td><td>43.582596</td><td>OK    </td></tr>\n",
       "\t<tr><th scope=row>4</th><td>ENSG00000000419</td><td>DPM1     </td><td>20:50934867-50958555 </td><td>339        </td><td>13388472  </td><td>25.697676</td><td>166             </td><td>8028726        </td><td>20.983920</td><td>OK    </td></tr>\n",
       "\t<tr><th scope=row>5</th><td>ENSG00000000457</td><td>SCYL3    </td><td>1:169849631-169894267</td><td>329        </td><td>13388472  </td><td>7.143470 </td><td>158             </td><td>8028726        </td><td>5.720774 </td><td>OK    </td></tr>\n",
       "\t<tr><th scope=row>6</th><td>ENSG00000000460</td><td>C1orf112 </td><td>1:169662007-169854080</td><td>536        </td><td>13388472  </td><td>18.726680</td><td>46              </td><td>8028726        </td><td>2.680021 </td><td>OK    </td></tr>\n",
       "</tbody>\n",
       "</table>\n"
      ],
      "text/latex": [
       "A data.frame: 6 x 10\n",
       "\\begin{tabular}{r|llllllllll}\n",
       "  & V1 & V2 & V3 & V4 & V5 & V6 & V7 & V8 & V9 & V10\\\\\n",
       "  & <chr> & <chr> & <chr> & <chr> & <chr> & <chr> & <chr> & <chr> & <chr> & <chr>\\\\\n",
       "\\hline\n",
       "\t1 & gene\\_ID         & gene\\_name & locus                 & frags\\_locus & frags\\_expt & FPKM\\_THN  & comp\\_frags\\_locus & comp\\_frags\\_expt & FPKM\\_CHN  & status\\\\\n",
       "\t2 & ENSG00000000003 & TSPAN6    & X:100627109-100639991 & 362         & 13388472   & 13.223452 & 333              & 8028726         & 20.284527 & OK    \\\\\n",
       "\t3 & ENSG00000000005 & TNMD      & X:100584802-100599885 & 399         & 13388472   & 31.987774 & 326              & 8028726         & 43.582596 & OK    \\\\\n",
       "\t4 & ENSG00000000419 & DPM1      & 20:50934867-50958555  & 339         & 13388472   & 25.697676 & 166              & 8028726         & 20.983920 & OK    \\\\\n",
       "\t5 & ENSG00000000457 & SCYL3     & 1:169849631-169894267 & 329         & 13388472   & 7.143470  & 158              & 8028726         & 5.720774  & OK    \\\\\n",
       "\t6 & ENSG00000000460 & C1orf112  & 1:169662007-169854080 & 536         & 13388472   & 18.726680 & 46               & 8028726         & 2.680021  & OK    \\\\\n",
       "\\end{tabular}\n"
      ],
      "text/markdown": [
       "\n",
       "A data.frame: 6 x 10\n",
       "\n",
       "| <!--/--> | V1 &lt;chr&gt; | V2 &lt;chr&gt; | V3 &lt;chr&gt; | V4 &lt;chr&gt; | V5 &lt;chr&gt; | V6 &lt;chr&gt; | V7 &lt;chr&gt; | V8 &lt;chr&gt; | V9 &lt;chr&gt; | V10 &lt;chr&gt; |\n",
       "|---|---|---|---|---|---|---|---|---|---|---|\n",
       "| 1 | gene_ID         | gene_name | locus                 | frags_locus | frags_expt | FPKM_THN  | comp_frags_locus | comp_frags_expt | FPKM_CHN  | status |\n",
       "| 2 | ENSG00000000003 | TSPAN6    | X:100627109-100639991 | 362         | 13388472   | 13.223452 | 333              | 8028726         | 20.284527 | OK     |\n",
       "| 3 | ENSG00000000005 | TNMD      | X:100584802-100599885 | 399         | 13388472   | 31.987774 | 326              | 8028726         | 43.582596 | OK     |\n",
       "| 4 | ENSG00000000419 | DPM1      | 20:50934867-50958555  | 339         | 13388472   | 25.697676 | 166              | 8028726         | 20.983920 | OK     |\n",
       "| 5 | ENSG00000000457 | SCYL3     | 1:169849631-169894267 | 329         | 13388472   | 7.143470  | 158              | 8028726         | 5.720774  | OK     |\n",
       "| 6 | ENSG00000000460 | C1orf112  | 1:169662007-169854080 | 536         | 13388472   | 18.726680 | 46               | 8028726         | 2.680021  | OK     |\n",
       "\n"
      ],
      "text/plain": [
       "  V1              V2        V3                    V4          V5        \n",
       "1 gene_ID         gene_name locus                 frags_locus frags_expt\n",
       "2 ENSG00000000003 TSPAN6    X:100627109-100639991 362         13388472  \n",
       "3 ENSG00000000005 TNMD      X:100584802-100599885 399         13388472  \n",
       "4 ENSG00000000419 DPM1      20:50934867-50958555  339         13388472  \n",
       "5 ENSG00000000457 SCYL3     1:169849631-169894267 329         13388472  \n",
       "6 ENSG00000000460 C1orf112  1:169662007-169854080 536         13388472  \n",
       "  V6        V7               V8              V9        V10   \n",
       "1 FPKM_THN  comp_frags_locus comp_frags_expt FPKM_CHN  status\n",
       "2 13.223452 333              8028726         20.284527 OK    \n",
       "3 31.987774 326              8028726         43.582596 OK    \n",
       "4 25.697676 166              8028726         20.983920 OK    \n",
       "5 7.143470  158              8028726         5.720774  OK    \n",
       "6 18.726680 46               8028726         2.680021  OK    "
      ]
     },
     "metadata": {},
     "output_type": "display_data"
    }
   ],
   "source": [
    "dt <- read.table(t1_path)\n",
    "head(dt)\n",
    "\n"
   ]
  }
 ],
 "metadata": {
  "kernelspec": {
   "display_name": "R",
   "language": "R",
   "name": "ir"
  },
  "language_info": {
   "codemirror_mode": "r",
   "file_extension": ".r",
   "mimetype": "text/x-r-source",
   "name": "R",
   "pygments_lexer": "r",
   "version": "4.2.2"
  },
  "orig_nbformat": 4
 },
 "nbformat": 4,
 "nbformat_minor": 2
}
