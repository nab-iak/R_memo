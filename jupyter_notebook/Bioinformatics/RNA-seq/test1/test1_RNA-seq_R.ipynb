{
 "cells": [
  {
   "cell_type": "markdown",
   "metadata": {},
   "source": [
    "由于jupyter notebook的shell实在过于垃圾  \n",
    "所以shell的代码全部放到.sh里面得了  \n",
    "使用前记得chmod +x file_name.sh"
   ]
  },
  {
   "cell_type": "markdown",
   "metadata": {},
   "source": [
    "# 从上游文件SRA开始的分析\n",
    "---"
   ]
  },
  {
   "cell_type": "markdown",
   "metadata": {},
   "source": [
    "Shell脚本 jupyter_notebook/Bioinformatics/RNA-seq/test1/shell_script  \n",
    "结果 jupyter_notebook/Bioinformatics/RNA-seq/test1/data/stringtied"
   ]
  },
  {
   "cell_type": "code",
   "execution_count": 1,
   "metadata": {
    "vscode": {
     "languageId": "r"
    }
   },
   "outputs": [
    {
     "name": "stderr",
     "output_type": "stream",
     "text": [
      "-- \u001b[1mAttaching core tidyverse packages\u001b[22m ------------------------ tidyverse 2.0.0 --\n",
      "\u001b[32mv\u001b[39m \u001b[34mdplyr    \u001b[39m 1.1.2     \u001b[32mv\u001b[39m \u001b[34mreadr    \u001b[39m 2.1.4\n",
      "\u001b[32mv\u001b[39m \u001b[34mforcats  \u001b[39m 1.0.0     \u001b[32mv\u001b[39m \u001b[34mstringr  \u001b[39m 1.5.0\n",
      "\u001b[32mv\u001b[39m \u001b[34mggplot2  \u001b[39m 3.4.2     \u001b[32mv\u001b[39m \u001b[34mtibble   \u001b[39m 3.2.1\n",
      "\u001b[32mv\u001b[39m \u001b[34mlubridate\u001b[39m 1.9.2     \u001b[32mv\u001b[39m \u001b[34mtidyr    \u001b[39m 1.3.0\n",
      "\u001b[32mv\u001b[39m \u001b[34mpurrr    \u001b[39m 1.0.1     \n",
      "-- \u001b[1mConflicts\u001b[22m ------------------------------------------ tidyverse_conflicts() --\n",
      "\u001b[31mx\u001b[39m \u001b[34mdplyr\u001b[39m::\u001b[32mfilter()\u001b[39m masks \u001b[34mstats\u001b[39m::filter()\n",
      "\u001b[31mx\u001b[39m \u001b[34mdplyr\u001b[39m::\u001b[32mlag()\u001b[39m    masks \u001b[34mstats\u001b[39m::lag()\n",
      "\u001b[36mi\u001b[39m Use the conflicted package (\u001b[3m\u001b[34m<http://conflicted.r-lib.org/>\u001b[39m\u001b[23m) to force all conflicts to become errors\n",
      "Loading required package: S4Vectors\n",
      "\n",
      "Loading required package: stats4\n",
      "\n",
      "Loading required package: BiocGenerics\n",
      "\n",
      "\n",
      "Attaching package: 'BiocGenerics'\n",
      "\n",
      "\n",
      "The following objects are masked from 'package:lubridate':\n",
      "\n",
      "    intersect, setdiff, union\n",
      "\n",
      "\n",
      "The following objects are masked from 'package:dplyr':\n",
      "\n",
      "    combine, intersect, setdiff, union\n",
      "\n",
      "\n",
      "The following objects are masked from 'package:stats':\n",
      "\n",
      "    IQR, mad, sd, var, xtabs\n",
      "\n",
      "\n",
      "The following objects are masked from 'package:base':\n",
      "\n",
      "    Filter, Find, Map, Position, Reduce, anyDuplicated, append,\n",
      "    as.data.frame, basename, cbind, colnames, dirname, do.call,\n",
      "    duplicated, eval, evalq, get, grep, grepl, intersect, is.unsorted,\n",
      "    lapply, mapply, match, mget, order, paste, pmax, pmax.int, pmin,\n",
      "    pmin.int, rank, rbind, rownames, sapply, setdiff, sort, table,\n",
      "    tapply, union, unique, unsplit, which.max, which.min\n",
      "\n",
      "\n",
      "\n",
      "Attaching package: 'S4Vectors'\n",
      "\n",
      "\n",
      "The following objects are masked from 'package:lubridate':\n",
      "\n",
      "    second, second<-\n",
      "\n",
      "\n",
      "The following objects are masked from 'package:dplyr':\n",
      "\n",
      "    first, rename\n",
      "\n",
      "\n",
      "The following object is masked from 'package:tidyr':\n",
      "\n",
      "    expand\n",
      "\n",
      "\n",
      "The following objects are masked from 'package:base':\n",
      "\n",
      "    I, expand.grid, unname\n",
      "\n",
      "\n",
      "Loading required package: IRanges\n",
      "\n",
      "\n",
      "Attaching package: 'IRanges'\n",
      "\n",
      "\n",
      "The following object is masked from 'package:lubridate':\n",
      "\n",
      "    %within%\n",
      "\n",
      "\n",
      "The following objects are masked from 'package:dplyr':\n",
      "\n",
      "    collapse, desc, slice\n",
      "\n",
      "\n",
      "The following object is masked from 'package:purrr':\n",
      "\n",
      "    reduce\n",
      "\n",
      "\n",
      "Loading required package: GenomicRanges\n",
      "\n",
      "Loading required package: GenomeInfoDb\n",
      "\n",
      "Loading required package: SummarizedExperiment\n",
      "\n",
      "Loading required package: MatrixGenerics\n",
      "\n",
      "Loading required package: matrixStats\n",
      "\n",
      "\n",
      "Attaching package: 'matrixStats'\n",
      "\n",
      "\n",
      "The following object is masked from 'package:dplyr':\n",
      "\n",
      "    count\n",
      "\n",
      "\n",
      "\n",
      "Attaching package: 'MatrixGenerics'\n",
      "\n",
      "\n",
      "The following objects are masked from 'package:matrixStats':\n",
      "\n",
      "    colAlls, colAnyNAs, colAnys, colAvgsPerRowSet, colCollapse,\n",
      "    colCounts, colCummaxs, colCummins, colCumprods, colCumsums,\n",
      "    colDiffs, colIQRDiffs, colIQRs, colLogSumExps, colMadDiffs,\n",
      "    colMads, colMaxs, colMeans2, colMedians, colMins, colOrderStats,\n",
      "    colProds, colQuantiles, colRanges, colRanks, colSdDiffs, colSds,\n",
      "    colSums2, colTabulates, colVarDiffs, colVars, colWeightedMads,\n",
      "    colWeightedMeans, colWeightedMedians, colWeightedSds,\n",
      "    colWeightedVars, rowAlls, rowAnyNAs, rowAnys, rowAvgsPerColSet,\n",
      "    rowCollapse, rowCounts, rowCummaxs, rowCummins, rowCumprods,\n",
      "    rowCumsums, rowDiffs, rowIQRDiffs, rowIQRs, rowLogSumExps,\n",
      "    rowMadDiffs, rowMads, rowMaxs, rowMeans2, rowMedians, rowMins,\n",
      "    rowOrderStats, rowProds, rowQuantiles, rowRanges, rowRanks,\n",
      "    rowSdDiffs, rowSds, rowSums2, rowTabulates, rowVarDiffs, rowVars,\n",
      "    rowWeightedMads, rowWeightedMeans, rowWeightedMedians,\n",
      "    rowWeightedSds, rowWeightedVars\n",
      "\n",
      "\n",
      "Loading required package: Biobase\n",
      "\n",
      "Welcome to Bioconductor\n",
      "\n",
      "    Vignettes contain introductory material; view with\n",
      "    'browseVignettes()'. To cite Bioconductor, see\n",
      "    'citation(\"Biobase\")', and for packages 'citation(\"pkgname\")'.\n",
      "\n",
      "\n",
      "\n",
      "Attaching package: 'Biobase'\n",
      "\n",
      "\n",
      "The following object is masked from 'package:MatrixGenerics':\n",
      "\n",
      "    rowMedians\n",
      "\n",
      "\n",
      "The following objects are masked from 'package:matrixStats':\n",
      "\n",
      "    anyMissing, rowMedians\n",
      "\n",
      "\n"
     ]
    }
   ],
   "source": [
    "library(tidyverse)\n",
    "library(ggplot2)\n",
    "library(DESeq2)\n",
    "library(pheatmap)"
   ]
  },
  {
   "cell_type": "code",
   "execution_count": 2,
   "metadata": {
    "vscode": {
     "languageId": "r"
    }
   },
   "outputs": [
    {
     "data": {
      "text/html": [
       "<table class=\"dataframe\">\n",
       "<caption>A data.frame: 6 x 20</caption>\n",
       "<thead>\n",
       "\t<tr><th></th><th scope=col>normal_female_health_1</th><th scope=col>normal_female_health_2</th><th scope=col>normal_female_health_3</th><th scope=col>normal_female_health_4</th><th scope=col>normal_female_health_5</th><th scope=col>obesity_female_T2D_1</th><th scope=col>obesity_female_T2D_2</th><th scope=col>obesity_female_T2D_3</th><th scope=col>obesity_female_T2D_4</th><th scope=col>obesity_female_T2D_5</th><th scope=col>obesity_female_health_1</th><th scope=col>obesity_female_health_2</th><th scope=col>obesity_female_health_3</th><th scope=col>obesity_female_health_4</th><th scope=col>obesity_female_health_5</th><th scope=col>obesity_male_health_1</th><th scope=col>obesity_male_health_2</th><th scope=col>obesity_male_health_3</th><th scope=col>obesity_male_health_4</th><th scope=col>obesity_male_health_5</th></tr>\n",
       "\t<tr><th></th><th scope=col>&lt;int&gt;</th><th scope=col>&lt;int&gt;</th><th scope=col>&lt;int&gt;</th><th scope=col>&lt;int&gt;</th><th scope=col>&lt;int&gt;</th><th scope=col>&lt;int&gt;</th><th scope=col>&lt;int&gt;</th><th scope=col>&lt;int&gt;</th><th scope=col>&lt;int&gt;</th><th scope=col>&lt;int&gt;</th><th scope=col>&lt;int&gt;</th><th scope=col>&lt;int&gt;</th><th scope=col>&lt;int&gt;</th><th scope=col>&lt;int&gt;</th><th scope=col>&lt;int&gt;</th><th scope=col>&lt;int&gt;</th><th scope=col>&lt;int&gt;</th><th scope=col>&lt;int&gt;</th><th scope=col>&lt;int&gt;</th><th scope=col>&lt;int&gt;</th></tr>\n",
       "</thead>\n",
       "<tbody>\n",
       "\t<tr><th scope=row>ENSG00000223972.6|DDX11L1</th><td> 0</td><td> 0</td><td> 0</td><td>  0</td><td> 0</td><td> 0</td><td> 0</td><td> 0</td><td> 0</td><td> 0</td><td> 0</td><td> 0</td><td> 0</td><td> 0</td><td> 0</td><td> 0</td><td> 0</td><td> 0</td><td> 0</td><td>  0</td></tr>\n",
       "\t<tr><th scope=row>ENSG00000243485.5|MIR1302-2HG</th><td> 0</td><td> 0</td><td> 0</td><td>  3</td><td> 2</td><td> 0</td><td> 4</td><td> 0</td><td> 0</td><td> 0</td><td> 7</td><td> 0</td><td> 2</td><td> 0</td><td> 0</td><td> 0</td><td> 5</td><td> 1</td><td>11</td><td>  3</td></tr>\n",
       "\t<tr><th scope=row>ENSG00000284332.1|MIR1302-2</th><td> 0</td><td> 0</td><td> 0</td><td>  1</td><td> 0</td><td> 0</td><td> 0</td><td> 0</td><td> 0</td><td> 0</td><td> 1</td><td> 0</td><td> 1</td><td> 0</td><td> 0</td><td> 0</td><td> 1</td><td> 0</td><td> 1</td><td>  0</td></tr>\n",
       "\t<tr><th scope=row>ENSG00000290825.1|DDX11L2</th><td> 3</td><td> 6</td><td> 8</td><td> 27</td><td>21</td><td> 8</td><td> 7</td><td> 1</td><td> 4</td><td> 0</td><td>27</td><td> 5</td><td>25</td><td> 4</td><td> 5</td><td> 3</td><td>14</td><td> 2</td><td>21</td><td> 17</td></tr>\n",
       "\t<tr><th scope=row>ENSG00000227232.5|WASH7P</th><td>40</td><td>50</td><td>55</td><td>175</td><td>30</td><td>56</td><td>39</td><td>26</td><td>52</td><td>24</td><td>25</td><td>64</td><td>53</td><td>62</td><td>33</td><td>57</td><td>41</td><td>67</td><td>28</td><td>249</td></tr>\n",
       "\t<tr><th scope=row>ENSG00000278267.1|MIR6859-1</th><td> 2</td><td> 2</td><td> 3</td><td>  1</td><td> 1</td><td> 2</td><td> 1</td><td> 0</td><td> 1</td><td> 1</td><td> 2</td><td> 2</td><td> 5</td><td> 2</td><td> 1</td><td> 2</td><td> 2</td><td> 2</td><td> 2</td><td>  6</td></tr>\n",
       "</tbody>\n",
       "</table>\n"
      ],
      "text/latex": [
       "A data.frame: 6 x 20\n",
       "\\begin{tabular}{r|llllllllllllllllllll}\n",
       "  & normal\\_female\\_health\\_1 & normal\\_female\\_health\\_2 & normal\\_female\\_health\\_3 & normal\\_female\\_health\\_4 & normal\\_female\\_health\\_5 & obesity\\_female\\_T2D\\_1 & obesity\\_female\\_T2D\\_2 & obesity\\_female\\_T2D\\_3 & obesity\\_female\\_T2D\\_4 & obesity\\_female\\_T2D\\_5 & obesity\\_female\\_health\\_1 & obesity\\_female\\_health\\_2 & obesity\\_female\\_health\\_3 & obesity\\_female\\_health\\_4 & obesity\\_female\\_health\\_5 & obesity\\_male\\_health\\_1 & obesity\\_male\\_health\\_2 & obesity\\_male\\_health\\_3 & obesity\\_male\\_health\\_4 & obesity\\_male\\_health\\_5\\\\\n",
       "  & <int> & <int> & <int> & <int> & <int> & <int> & <int> & <int> & <int> & <int> & <int> & <int> & <int> & <int> & <int> & <int> & <int> & <int> & <int> & <int>\\\\\n",
       "\\hline\n",
       "\tENSG00000223972.6\\textbar{}DDX11L1 &  0 &  0 &  0 &   0 &  0 &  0 &  0 &  0 &  0 &  0 &  0 &  0 &  0 &  0 &  0 &  0 &  0 &  0 &  0 &   0\\\\\n",
       "\tENSG00000243485.5\\textbar{}MIR1302-2HG &  0 &  0 &  0 &   3 &  2 &  0 &  4 &  0 &  0 &  0 &  7 &  0 &  2 &  0 &  0 &  0 &  5 &  1 & 11 &   3\\\\\n",
       "\tENSG00000284332.1\\textbar{}MIR1302-2 &  0 &  0 &  0 &   1 &  0 &  0 &  0 &  0 &  0 &  0 &  1 &  0 &  1 &  0 &  0 &  0 &  1 &  0 &  1 &   0\\\\\n",
       "\tENSG00000290825.1\\textbar{}DDX11L2 &  3 &  6 &  8 &  27 & 21 &  8 &  7 &  1 &  4 &  0 & 27 &  5 & 25 &  4 &  5 &  3 & 14 &  2 & 21 &  17\\\\\n",
       "\tENSG00000227232.5\\textbar{}WASH7P & 40 & 50 & 55 & 175 & 30 & 56 & 39 & 26 & 52 & 24 & 25 & 64 & 53 & 62 & 33 & 57 & 41 & 67 & 28 & 249\\\\\n",
       "\tENSG00000278267.1\\textbar{}MIR6859-1 &  2 &  2 &  3 &   1 &  1 &  2 &  1 &  0 &  1 &  1 &  2 &  2 &  5 &  2 &  1 &  2 &  2 &  2 &  2 &   6\\\\\n",
       "\\end{tabular}\n"
      ],
      "text/markdown": [
       "\n",
       "A data.frame: 6 x 20\n",
       "\n",
       "| <!--/--> | normal_female_health_1 &lt;int&gt; | normal_female_health_2 &lt;int&gt; | normal_female_health_3 &lt;int&gt; | normal_female_health_4 &lt;int&gt; | normal_female_health_5 &lt;int&gt; | obesity_female_T2D_1 &lt;int&gt; | obesity_female_T2D_2 &lt;int&gt; | obesity_female_T2D_3 &lt;int&gt; | obesity_female_T2D_4 &lt;int&gt; | obesity_female_T2D_5 &lt;int&gt; | obesity_female_health_1 &lt;int&gt; | obesity_female_health_2 &lt;int&gt; | obesity_female_health_3 &lt;int&gt; | obesity_female_health_4 &lt;int&gt; | obesity_female_health_5 &lt;int&gt; | obesity_male_health_1 &lt;int&gt; | obesity_male_health_2 &lt;int&gt; | obesity_male_health_3 &lt;int&gt; | obesity_male_health_4 &lt;int&gt; | obesity_male_health_5 &lt;int&gt; |\n",
       "|---|---|---|---|---|---|---|---|---|---|---|---|---|---|---|---|---|---|---|---|---|\n",
       "| ENSG00000223972.6|DDX11L1 |  0 |  0 |  0 |   0 |  0 |  0 |  0 |  0 |  0 |  0 |  0 |  0 |  0 |  0 |  0 |  0 |  0 |  0 |  0 |   0 |\n",
       "| ENSG00000243485.5|MIR1302-2HG |  0 |  0 |  0 |   3 |  2 |  0 |  4 |  0 |  0 |  0 |  7 |  0 |  2 |  0 |  0 |  0 |  5 |  1 | 11 |   3 |\n",
       "| ENSG00000284332.1|MIR1302-2 |  0 |  0 |  0 |   1 |  0 |  0 |  0 |  0 |  0 |  0 |  1 |  0 |  1 |  0 |  0 |  0 |  1 |  0 |  1 |   0 |\n",
       "| ENSG00000290825.1|DDX11L2 |  3 |  6 |  8 |  27 | 21 |  8 |  7 |  1 |  4 |  0 | 27 |  5 | 25 |  4 |  5 |  3 | 14 |  2 | 21 |  17 |\n",
       "| ENSG00000227232.5|WASH7P | 40 | 50 | 55 | 175 | 30 | 56 | 39 | 26 | 52 | 24 | 25 | 64 | 53 | 62 | 33 | 57 | 41 | 67 | 28 | 249 |\n",
       "| ENSG00000278267.1|MIR6859-1 |  2 |  2 |  3 |   1 |  1 |  2 |  1 |  0 |  1 |  1 |  2 |  2 |  5 |  2 |  1 |  2 |  2 |  2 |  2 |   6 |\n",
       "\n"
      ],
      "text/plain": [
       "                              normal_female_health_1 normal_female_health_2\n",
       "ENSG00000223972.6|DDX11L1      0                      0                    \n",
       "ENSG00000243485.5|MIR1302-2HG  0                      0                    \n",
       "ENSG00000284332.1|MIR1302-2    0                      0                    \n",
       "ENSG00000290825.1|DDX11L2      3                      6                    \n",
       "ENSG00000227232.5|WASH7P      40                     50                    \n",
       "ENSG00000278267.1|MIR6859-1    2                      2                    \n",
       "                              normal_female_health_3 normal_female_health_4\n",
       "ENSG00000223972.6|DDX11L1      0                       0                   \n",
       "ENSG00000243485.5|MIR1302-2HG  0                       3                   \n",
       "ENSG00000284332.1|MIR1302-2    0                       1                   \n",
       "ENSG00000290825.1|DDX11L2      8                      27                   \n",
       "ENSG00000227232.5|WASH7P      55                     175                   \n",
       "ENSG00000278267.1|MIR6859-1    3                       1                   \n",
       "                              normal_female_health_5 obesity_female_T2D_1\n",
       "ENSG00000223972.6|DDX11L1      0                      0                  \n",
       "ENSG00000243485.5|MIR1302-2HG  2                      0                  \n",
       "ENSG00000284332.1|MIR1302-2    0                      0                  \n",
       "ENSG00000290825.1|DDX11L2     21                      8                  \n",
       "ENSG00000227232.5|WASH7P      30                     56                  \n",
       "ENSG00000278267.1|MIR6859-1    1                      2                  \n",
       "                              obesity_female_T2D_2 obesity_female_T2D_3\n",
       "ENSG00000223972.6|DDX11L1      0                    0                  \n",
       "ENSG00000243485.5|MIR1302-2HG  4                    0                  \n",
       "ENSG00000284332.1|MIR1302-2    0                    0                  \n",
       "ENSG00000290825.1|DDX11L2      7                    1                  \n",
       "ENSG00000227232.5|WASH7P      39                   26                  \n",
       "ENSG00000278267.1|MIR6859-1    1                    0                  \n",
       "                              obesity_female_T2D_4 obesity_female_T2D_5\n",
       "ENSG00000223972.6|DDX11L1      0                    0                  \n",
       "ENSG00000243485.5|MIR1302-2HG  0                    0                  \n",
       "ENSG00000284332.1|MIR1302-2    0                    0                  \n",
       "ENSG00000290825.1|DDX11L2      4                    0                  \n",
       "ENSG00000227232.5|WASH7P      52                   24                  \n",
       "ENSG00000278267.1|MIR6859-1    1                    1                  \n",
       "                              obesity_female_health_1 obesity_female_health_2\n",
       "ENSG00000223972.6|DDX11L1      0                       0                     \n",
       "ENSG00000243485.5|MIR1302-2HG  7                       0                     \n",
       "ENSG00000284332.1|MIR1302-2    1                       0                     \n",
       "ENSG00000290825.1|DDX11L2     27                       5                     \n",
       "ENSG00000227232.5|WASH7P      25                      64                     \n",
       "ENSG00000278267.1|MIR6859-1    2                       2                     \n",
       "                              obesity_female_health_3 obesity_female_health_4\n",
       "ENSG00000223972.6|DDX11L1      0                       0                     \n",
       "ENSG00000243485.5|MIR1302-2HG  2                       0                     \n",
       "ENSG00000284332.1|MIR1302-2    1                       0                     \n",
       "ENSG00000290825.1|DDX11L2     25                       4                     \n",
       "ENSG00000227232.5|WASH7P      53                      62                     \n",
       "ENSG00000278267.1|MIR6859-1    5                       2                     \n",
       "                              obesity_female_health_5 obesity_male_health_1\n",
       "ENSG00000223972.6|DDX11L1      0                       0                   \n",
       "ENSG00000243485.5|MIR1302-2HG  0                       0                   \n",
       "ENSG00000284332.1|MIR1302-2    0                       0                   \n",
       "ENSG00000290825.1|DDX11L2      5                       3                   \n",
       "ENSG00000227232.5|WASH7P      33                      57                   \n",
       "ENSG00000278267.1|MIR6859-1    1                       2                   \n",
       "                              obesity_male_health_2 obesity_male_health_3\n",
       "ENSG00000223972.6|DDX11L1      0                     0                   \n",
       "ENSG00000243485.5|MIR1302-2HG  5                     1                   \n",
       "ENSG00000284332.1|MIR1302-2    1                     0                   \n",
       "ENSG00000290825.1|DDX11L2     14                     2                   \n",
       "ENSG00000227232.5|WASH7P      41                    67                   \n",
       "ENSG00000278267.1|MIR6859-1    2                     2                   \n",
       "                              obesity_male_health_4 obesity_male_health_5\n",
       "ENSG00000223972.6|DDX11L1      0                      0                  \n",
       "ENSG00000243485.5|MIR1302-2HG 11                      3                  \n",
       "ENSG00000284332.1|MIR1302-2    1                      0                  \n",
       "ENSG00000290825.1|DDX11L2     21                     17                  \n",
       "ENSG00000227232.5|WASH7P      28                    249                  \n",
       "ENSG00000278267.1|MIR6859-1    2                      6                  "
      ]
     },
     "metadata": {},
     "output_type": "display_data"
    }
   ],
   "source": [
    "test1_path <- getwd() |> paste(\"/data/stringtied/gene_count_matrix.csv\",sep=\"\") |> file.path()\n",
    "test1_dt <- read.csv(test1_path)\n",
    "rownames(test1_dt) <- test1_dt[,1]\n",
    "test1_dt <- test1_dt[,-1]\n",
    "head(test1_dt)"
   ]
  },
  {
   "cell_type": "code",
   "execution_count": 3,
   "metadata": {
    "vscode": {
     "languageId": "r"
    }
   },
   "outputs": [
    {
     "data": {
      "text/html": [
       "<table class=\"dataframe\">\n",
       "<caption>A data.frame: 20 x 3</caption>\n",
       "<thead>\n",
       "\t<tr><th></th><th scope=col>body</th><th scope=col>gender</th><th scope=col>disease</th></tr>\n",
       "\t<tr><th></th><th scope=col>&lt;chr&gt;</th><th scope=col>&lt;chr&gt;</th><th scope=col>&lt;chr&gt;</th></tr>\n",
       "</thead>\n",
       "<tbody>\n",
       "\t<tr><th scope=row>normal_female_health_1</th><td>normal </td><td>female</td><td>healthy</td></tr>\n",
       "\t<tr><th scope=row>normal_female_health_2</th><td>normal </td><td>female</td><td>healthy</td></tr>\n",
       "\t<tr><th scope=row>normal_female_health_3</th><td>normal </td><td>female</td><td>healthy</td></tr>\n",
       "\t<tr><th scope=row>normal_female_health_4</th><td>normal </td><td>female</td><td>healthy</td></tr>\n",
       "\t<tr><th scope=row>normal_female_health_5</th><td>normal </td><td>female</td><td>healthy</td></tr>\n",
       "\t<tr><th scope=row>obesity_female_T2D_1</th><td>obesity</td><td>female</td><td>T2D    </td></tr>\n",
       "\t<tr><th scope=row>obesity_female_T2D_2</th><td>obesity</td><td>female</td><td>T2D    </td></tr>\n",
       "\t<tr><th scope=row>obesity_female_T2D_3</th><td>obesity</td><td>female</td><td>T2D    </td></tr>\n",
       "\t<tr><th scope=row>obesity_female_T2D_4</th><td>obesity</td><td>female</td><td>T2D    </td></tr>\n",
       "\t<tr><th scope=row>obesity_female_T2D_5</th><td>obesity</td><td>female</td><td>T2D    </td></tr>\n",
       "\t<tr><th scope=row>obesity_female_health_1</th><td>obesity</td><td>female</td><td>healthy</td></tr>\n",
       "\t<tr><th scope=row>obesity_female_health_2</th><td>obesity</td><td>female</td><td>healthy</td></tr>\n",
       "\t<tr><th scope=row>obesity_female_health_3</th><td>obesity</td><td>female</td><td>healthy</td></tr>\n",
       "\t<tr><th scope=row>obesity_female_health_4</th><td>obesity</td><td>female</td><td>healthy</td></tr>\n",
       "\t<tr><th scope=row>obesity_female_health_5</th><td>obesity</td><td>female</td><td>healthy</td></tr>\n",
       "\t<tr><th scope=row>obesity_male_health_1</th><td>obesity</td><td>male  </td><td>healthy</td></tr>\n",
       "\t<tr><th scope=row>obesity_male_health_2</th><td>obesity</td><td>male  </td><td>healthy</td></tr>\n",
       "\t<tr><th scope=row>obesity_male_health_3</th><td>obesity</td><td>male  </td><td>healthy</td></tr>\n",
       "\t<tr><th scope=row>obesity_male_health_4</th><td>obesity</td><td>male  </td><td>healthy</td></tr>\n",
       "\t<tr><th scope=row>obesity_male_health_5</th><td>obesity</td><td>male  </td><td>healthy</td></tr>\n",
       "</tbody>\n",
       "</table>\n"
      ],
      "text/latex": [
       "A data.frame: 20 x 3\n",
       "\\begin{tabular}{r|lll}\n",
       "  & body & gender & disease\\\\\n",
       "  & <chr> & <chr> & <chr>\\\\\n",
       "\\hline\n",
       "\tnormal\\_female\\_health\\_1 & normal  & female & healthy\\\\\n",
       "\tnormal\\_female\\_health\\_2 & normal  & female & healthy\\\\\n",
       "\tnormal\\_female\\_health\\_3 & normal  & female & healthy\\\\\n",
       "\tnormal\\_female\\_health\\_4 & normal  & female & healthy\\\\\n",
       "\tnormal\\_female\\_health\\_5 & normal  & female & healthy\\\\\n",
       "\tobesity\\_female\\_T2D\\_1 & obesity & female & T2D    \\\\\n",
       "\tobesity\\_female\\_T2D\\_2 & obesity & female & T2D    \\\\\n",
       "\tobesity\\_female\\_T2D\\_3 & obesity & female & T2D    \\\\\n",
       "\tobesity\\_female\\_T2D\\_4 & obesity & female & T2D    \\\\\n",
       "\tobesity\\_female\\_T2D\\_5 & obesity & female & T2D    \\\\\n",
       "\tobesity\\_female\\_health\\_1 & obesity & female & healthy\\\\\n",
       "\tobesity\\_female\\_health\\_2 & obesity & female & healthy\\\\\n",
       "\tobesity\\_female\\_health\\_3 & obesity & female & healthy\\\\\n",
       "\tobesity\\_female\\_health\\_4 & obesity & female & healthy\\\\\n",
       "\tobesity\\_female\\_health\\_5 & obesity & female & healthy\\\\\n",
       "\tobesity\\_male\\_health\\_1 & obesity & male   & healthy\\\\\n",
       "\tobesity\\_male\\_health\\_2 & obesity & male   & healthy\\\\\n",
       "\tobesity\\_male\\_health\\_3 & obesity & male   & healthy\\\\\n",
       "\tobesity\\_male\\_health\\_4 & obesity & male   & healthy\\\\\n",
       "\tobesity\\_male\\_health\\_5 & obesity & male   & healthy\\\\\n",
       "\\end{tabular}\n"
      ],
      "text/markdown": [
       "\n",
       "A data.frame: 20 x 3\n",
       "\n",
       "| <!--/--> | body &lt;chr&gt; | gender &lt;chr&gt; | disease &lt;chr&gt; |\n",
       "|---|---|---|---|\n",
       "| normal_female_health_1 | normal  | female | healthy |\n",
       "| normal_female_health_2 | normal  | female | healthy |\n",
       "| normal_female_health_3 | normal  | female | healthy |\n",
       "| normal_female_health_4 | normal  | female | healthy |\n",
       "| normal_female_health_5 | normal  | female | healthy |\n",
       "| obesity_female_T2D_1 | obesity | female | T2D     |\n",
       "| obesity_female_T2D_2 | obesity | female | T2D     |\n",
       "| obesity_female_T2D_3 | obesity | female | T2D     |\n",
       "| obesity_female_T2D_4 | obesity | female | T2D     |\n",
       "| obesity_female_T2D_5 | obesity | female | T2D     |\n",
       "| obesity_female_health_1 | obesity | female | healthy |\n",
       "| obesity_female_health_2 | obesity | female | healthy |\n",
       "| obesity_female_health_3 | obesity | female | healthy |\n",
       "| obesity_female_health_4 | obesity | female | healthy |\n",
       "| obesity_female_health_5 | obesity | female | healthy |\n",
       "| obesity_male_health_1 | obesity | male   | healthy |\n",
       "| obesity_male_health_2 | obesity | male   | healthy |\n",
       "| obesity_male_health_3 | obesity | male   | healthy |\n",
       "| obesity_male_health_4 | obesity | male   | healthy |\n",
       "| obesity_male_health_5 | obesity | male   | healthy |\n",
       "\n"
      ],
      "text/plain": [
       "                        body    gender disease\n",
       "normal_female_health_1  normal  female healthy\n",
       "normal_female_health_2  normal  female healthy\n",
       "normal_female_health_3  normal  female healthy\n",
       "normal_female_health_4  normal  female healthy\n",
       "normal_female_health_5  normal  female healthy\n",
       "obesity_female_T2D_1    obesity female T2D    \n",
       "obesity_female_T2D_2    obesity female T2D    \n",
       "obesity_female_T2D_3    obesity female T2D    \n",
       "obesity_female_T2D_4    obesity female T2D    \n",
       "obesity_female_T2D_5    obesity female T2D    \n",
       "obesity_female_health_1 obesity female healthy\n",
       "obesity_female_health_2 obesity female healthy\n",
       "obesity_female_health_3 obesity female healthy\n",
       "obesity_female_health_4 obesity female healthy\n",
       "obesity_female_health_5 obesity female healthy\n",
       "obesity_male_health_1   obesity male   healthy\n",
       "obesity_male_health_2   obesity male   healthy\n",
       "obesity_male_health_3   obesity male   healthy\n",
       "obesity_male_health_4   obesity male   healthy\n",
       "obesity_male_health_5   obesity male   healthy"
      ]
     },
     "metadata": {},
     "output_type": "display_data"
    }
   ],
   "source": [
    "body <- c(\n",
    "    rep(\"normal\",5),\n",
    "    rep(\"obesity\",15)\n",
    "    )\n",
    "gender <- c(\n",
    "    rep(\"female\",15),\n",
    "    rep(\"male\",5)\n",
    "    )\n",
    "disease <- c(\n",
    "    rep(\"healthy\",5),\n",
    "    rep(\"T2D\",5),\n",
    "    rep(\"healthy\",10)\n",
    "    )\n",
    "meta <- data.frame(body,gender,disease)\n",
    "rownames(meta) <- colnames(test1_dt)\n",
    "meta"
   ]
  },
  {
   "cell_type": "markdown",
   "metadata": {},
   "source": [
    "这里的meta我是直接按照`gene_count_matrix.csv`的顺序生成的\n",
    "其实也可以先生成meta，然后把meta的行名用match()匹配matrix的列名重新排序\n",
    "\n",
    "matrix(目标顺序，当前顺序)"
   ]
  },
  {
   "cell_type": "code",
   "execution_count": 4,
   "metadata": {
    "vscode": {
     "languageId": "r"
    }
   },
   "outputs": [
    {
     "data": {
      "text/html": [
       "TRUE"
      ],
      "text/latex": [
       "TRUE"
      ],
      "text/markdown": [
       "TRUE"
      ],
      "text/plain": [
       "[1] TRUE"
      ]
     },
     "metadata": {},
     "output_type": "display_data"
    },
    {
     "data": {
      "text/html": [
       "<table class=\"dataframe\">\n",
       "<caption>A data.frame: 20 x 3</caption>\n",
       "<thead>\n",
       "\t<tr><th></th><th scope=col>body</th><th scope=col>gender</th><th scope=col>disease</th></tr>\n",
       "\t<tr><th></th><th scope=col>&lt;chr&gt;</th><th scope=col>&lt;chr&gt;</th><th scope=col>&lt;chr&gt;</th></tr>\n",
       "</thead>\n",
       "<tbody>\n",
       "\t<tr><th scope=row>normal_female_health_1</th><td>normal </td><td>female</td><td>healthy</td></tr>\n",
       "\t<tr><th scope=row>normal_female_health_2</th><td>normal </td><td>female</td><td>healthy</td></tr>\n",
       "\t<tr><th scope=row>normal_female_health_3</th><td>normal </td><td>female</td><td>healthy</td></tr>\n",
       "\t<tr><th scope=row>normal_female_health_4</th><td>normal </td><td>female</td><td>healthy</td></tr>\n",
       "\t<tr><th scope=row>normal_female_health_5</th><td>normal </td><td>female</td><td>healthy</td></tr>\n",
       "\t<tr><th scope=row>obesity_female_T2D_1</th><td>obesity</td><td>female</td><td>T2D    </td></tr>\n",
       "\t<tr><th scope=row>obesity_female_T2D_2</th><td>obesity</td><td>female</td><td>T2D    </td></tr>\n",
       "\t<tr><th scope=row>obesity_female_T2D_3</th><td>obesity</td><td>female</td><td>T2D    </td></tr>\n",
       "\t<tr><th scope=row>obesity_female_T2D_4</th><td>obesity</td><td>female</td><td>T2D    </td></tr>\n",
       "\t<tr><th scope=row>obesity_female_T2D_5</th><td>obesity</td><td>female</td><td>T2D    </td></tr>\n",
       "\t<tr><th scope=row>obesity_female_health_1</th><td>obesity</td><td>female</td><td>healthy</td></tr>\n",
       "\t<tr><th scope=row>obesity_female_health_2</th><td>obesity</td><td>female</td><td>healthy</td></tr>\n",
       "\t<tr><th scope=row>obesity_female_health_3</th><td>obesity</td><td>female</td><td>healthy</td></tr>\n",
       "\t<tr><th scope=row>obesity_female_health_4</th><td>obesity</td><td>female</td><td>healthy</td></tr>\n",
       "\t<tr><th scope=row>obesity_female_health_5</th><td>obesity</td><td>female</td><td>healthy</td></tr>\n",
       "\t<tr><th scope=row>obesity_male_health_1</th><td>obesity</td><td>male  </td><td>healthy</td></tr>\n",
       "\t<tr><th scope=row>obesity_male_health_2</th><td>obesity</td><td>male  </td><td>healthy</td></tr>\n",
       "\t<tr><th scope=row>obesity_male_health_3</th><td>obesity</td><td>male  </td><td>healthy</td></tr>\n",
       "\t<tr><th scope=row>obesity_male_health_4</th><td>obesity</td><td>male  </td><td>healthy</td></tr>\n",
       "\t<tr><th scope=row>obesity_male_health_5</th><td>obesity</td><td>male  </td><td>healthy</td></tr>\n",
       "</tbody>\n",
       "</table>\n"
      ],
      "text/latex": [
       "A data.frame: 20 x 3\n",
       "\\begin{tabular}{r|lll}\n",
       "  & body & gender & disease\\\\\n",
       "  & <chr> & <chr> & <chr>\\\\\n",
       "\\hline\n",
       "\tnormal\\_female\\_health\\_1 & normal  & female & healthy\\\\\n",
       "\tnormal\\_female\\_health\\_2 & normal  & female & healthy\\\\\n",
       "\tnormal\\_female\\_health\\_3 & normal  & female & healthy\\\\\n",
       "\tnormal\\_female\\_health\\_4 & normal  & female & healthy\\\\\n",
       "\tnormal\\_female\\_health\\_5 & normal  & female & healthy\\\\\n",
       "\tobesity\\_female\\_T2D\\_1 & obesity & female & T2D    \\\\\n",
       "\tobesity\\_female\\_T2D\\_2 & obesity & female & T2D    \\\\\n",
       "\tobesity\\_female\\_T2D\\_3 & obesity & female & T2D    \\\\\n",
       "\tobesity\\_female\\_T2D\\_4 & obesity & female & T2D    \\\\\n",
       "\tobesity\\_female\\_T2D\\_5 & obesity & female & T2D    \\\\\n",
       "\tobesity\\_female\\_health\\_1 & obesity & female & healthy\\\\\n",
       "\tobesity\\_female\\_health\\_2 & obesity & female & healthy\\\\\n",
       "\tobesity\\_female\\_health\\_3 & obesity & female & healthy\\\\\n",
       "\tobesity\\_female\\_health\\_4 & obesity & female & healthy\\\\\n",
       "\tobesity\\_female\\_health\\_5 & obesity & female & healthy\\\\\n",
       "\tobesity\\_male\\_health\\_1 & obesity & male   & healthy\\\\\n",
       "\tobesity\\_male\\_health\\_2 & obesity & male   & healthy\\\\\n",
       "\tobesity\\_male\\_health\\_3 & obesity & male   & healthy\\\\\n",
       "\tobesity\\_male\\_health\\_4 & obesity & male   & healthy\\\\\n",
       "\tobesity\\_male\\_health\\_5 & obesity & male   & healthy\\\\\n",
       "\\end{tabular}\n"
      ],
      "text/markdown": [
       "\n",
       "A data.frame: 20 x 3\n",
       "\n",
       "| <!--/--> | body &lt;chr&gt; | gender &lt;chr&gt; | disease &lt;chr&gt; |\n",
       "|---|---|---|---|\n",
       "| normal_female_health_1 | normal  | female | healthy |\n",
       "| normal_female_health_2 | normal  | female | healthy |\n",
       "| normal_female_health_3 | normal  | female | healthy |\n",
       "| normal_female_health_4 | normal  | female | healthy |\n",
       "| normal_female_health_5 | normal  | female | healthy |\n",
       "| obesity_female_T2D_1 | obesity | female | T2D     |\n",
       "| obesity_female_T2D_2 | obesity | female | T2D     |\n",
       "| obesity_female_T2D_3 | obesity | female | T2D     |\n",
       "| obesity_female_T2D_4 | obesity | female | T2D     |\n",
       "| obesity_female_T2D_5 | obesity | female | T2D     |\n",
       "| obesity_female_health_1 | obesity | female | healthy |\n",
       "| obesity_female_health_2 | obesity | female | healthy |\n",
       "| obesity_female_health_3 | obesity | female | healthy |\n",
       "| obesity_female_health_4 | obesity | female | healthy |\n",
       "| obesity_female_health_5 | obesity | female | healthy |\n",
       "| obesity_male_health_1 | obesity | male   | healthy |\n",
       "| obesity_male_health_2 | obesity | male   | healthy |\n",
       "| obesity_male_health_3 | obesity | male   | healthy |\n",
       "| obesity_male_health_4 | obesity | male   | healthy |\n",
       "| obesity_male_health_5 | obesity | male   | healthy |\n",
       "\n"
      ],
      "text/plain": [
       "                        body    gender disease\n",
       "normal_female_health_1  normal  female healthy\n",
       "normal_female_health_2  normal  female healthy\n",
       "normal_female_health_3  normal  female healthy\n",
       "normal_female_health_4  normal  female healthy\n",
       "normal_female_health_5  normal  female healthy\n",
       "obesity_female_T2D_1    obesity female T2D    \n",
       "obesity_female_T2D_2    obesity female T2D    \n",
       "obesity_female_T2D_3    obesity female T2D    \n",
       "obesity_female_T2D_4    obesity female T2D    \n",
       "obesity_female_T2D_5    obesity female T2D    \n",
       "obesity_female_health_1 obesity female healthy\n",
       "obesity_female_health_2 obesity female healthy\n",
       "obesity_female_health_3 obesity female healthy\n",
       "obesity_female_health_4 obesity female healthy\n",
       "obesity_female_health_5 obesity female healthy\n",
       "obesity_male_health_1   obesity male   healthy\n",
       "obesity_male_health_2   obesity male   healthy\n",
       "obesity_male_health_3   obesity male   healthy\n",
       "obesity_male_health_4   obesity male   healthy\n",
       "obesity_male_health_5   obesity male   healthy"
      ]
     },
     "metadata": {},
     "output_type": "display_data"
    }
   ],
   "source": [
    "all(colnames(test1_dt)==rownames(meta)) # 检查顺序对不对，即使一个不对也会返还 FALSE\n",
    "\n",
    "idx <- match(colnames(test1_dt),rownames(meta))\n",
    "meta <- meta[idx,]\n",
    "meta"
   ]
  },
  {
   "cell_type": "markdown",
   "metadata": {},
   "source": [
    "创建一个表达差异基因(dds)的DEseq2项目"
   ]
  },
  {
   "cell_type": "code",
   "execution_count": 5,
   "metadata": {
    "vscode": {
     "languageId": "r"
    }
   },
   "outputs": [
    {
     "name": "stderr",
     "output_type": "stream",
     "text": [
      "Warning message in DESeqDataSet(se, design = design, ignoreRank):\n",
      "\"some variables in design formula are characters, converting to factors\"\n"
     ]
    }
   ],
   "source": [
    "dds_test1_dt <- DESeqDataSetFromMatrix(\n",
    "    countData = test1_dt,\n",
    "    colData = meta,\n",
    "    design = ~ body # 先用一个好了,等下再用两个和三个分别测试\n",
    ")"
   ]
  },
  {
   "cell_type": "markdown",
   "metadata": {},
   "source": [
    "标准化counts"
   ]
  },
  {
   "cell_type": "code",
   "execution_count": 6,
   "metadata": {
    "vscode": {
     "languageId": "r"
    }
   },
   "outputs": [],
   "source": [
    "dds_test1_dt <- estimateSizeFactors(dds_test1_dt)\n",
    "normalized_test1_counts <- counts(dds_test1_dt,normalized=TRUE)"
   ]
  },
  {
   "cell_type": "code",
   "execution_count": 7,
   "metadata": {
    "vscode": {
     "languageId": "r"
    }
   },
   "outputs": [
    {
     "data": {
      "text/html": [
       "<table class=\"dataframe\">\n",
       "<caption>A matrix: 20 x 20 of type dbl</caption>\n",
       "<thead>\n",
       "\t<tr><th></th><th scope=col>normal_female_health_1</th><th scope=col>normal_female_health_2</th><th scope=col>normal_female_health_3</th><th scope=col>normal_female_health_4</th><th scope=col>normal_female_health_5</th><th scope=col>obesity_female_T2D_1</th><th scope=col>obesity_female_T2D_2</th><th scope=col>obesity_female_T2D_3</th><th scope=col>obesity_female_T2D_4</th><th scope=col>obesity_female_T2D_5</th><th scope=col>obesity_female_health_1</th><th scope=col>obesity_female_health_2</th><th scope=col>obesity_female_health_3</th><th scope=col>obesity_female_health_4</th><th scope=col>obesity_female_health_5</th><th scope=col>obesity_male_health_1</th><th scope=col>obesity_male_health_2</th><th scope=col>obesity_male_health_3</th><th scope=col>obesity_male_health_4</th><th scope=col>obesity_male_health_5</th></tr>\n",
       "</thead>\n",
       "<tbody>\n",
       "\t<tr><th scope=row>normal_female_health_1</th><td>1.0000000</td><td>0.9808163</td><td>0.9836083</td><td>0.9516670</td><td>0.9459646</td><td>0.9656743</td><td>0.9768566</td><td>0.9600377</td><td>0.9812653</td><td>0.9795525</td><td>0.8992934</td><td>0.9781194</td><td>0.9446544</td><td>0.9809585</td><td>0.9612978</td><td>0.9722784</td><td>0.9593330</td><td>0.9630690</td><td>0.9173232</td><td>0.9819680</td></tr>\n",
       "\t<tr><th scope=row>normal_female_health_2</th><td>0.9808163</td><td>1.0000000</td><td>0.9851352</td><td>0.9453674</td><td>0.9409061</td><td>0.9634243</td><td>0.9706533</td><td>0.9613624</td><td>0.9765342</td><td>0.9711004</td><td>0.8921040</td><td>0.9805467</td><td>0.9387928</td><td>0.9767547</td><td>0.9614187</td><td>0.9717442</td><td>0.9587899</td><td>0.9586369</td><td>0.9122392</td><td>0.9738118</td></tr>\n",
       "\t<tr><th scope=row>normal_female_health_3</th><td>0.9836083</td><td>0.9851352</td><td>1.0000000</td><td>0.9577909</td><td>0.9457560</td><td>0.9707935</td><td>0.9752079</td><td>0.9654511</td><td>0.9796801</td><td>0.9758444</td><td>0.8974709</td><td>0.9832772</td><td>0.9423992</td><td>0.9791388</td><td>0.9580145</td><td>0.9720579</td><td>0.9596611</td><td>0.9577646</td><td>0.9148660</td><td>0.9769057</td></tr>\n",
       "\t<tr><th scope=row>normal_female_health_4</th><td>0.9516670</td><td>0.9453674</td><td>0.9577909</td><td>1.0000000</td><td>0.9446801</td><td>0.9354926</td><td>0.9595443</td><td>0.9544205</td><td>0.9592031</td><td>0.9427295</td><td>0.8965788</td><td>0.9576024</td><td>0.9433909</td><td>0.9480215</td><td>0.9200688</td><td>0.9272152</td><td>0.9409728</td><td>0.9243404</td><td>0.9099160</td><td>0.9526217</td></tr>\n",
       "\t<tr><th scope=row>normal_female_health_5</th><td>0.9459646</td><td>0.9409061</td><td>0.9457560</td><td>0.9446801</td><td>1.0000000</td><td>0.9346178</td><td>0.9606675</td><td>0.9236147</td><td>0.9443196</td><td>0.9423263</td><td>0.9494183</td><td>0.9448327</td><td>0.9683639</td><td>0.9418305</td><td>0.9269037</td><td>0.9328490</td><td>0.9588953</td><td>0.9215251</td><td>0.9560756</td><td>0.9455177</td></tr>\n",
       "\t<tr><th scope=row>obesity_female_T2D_1</th><td>0.9656743</td><td>0.9634243</td><td>0.9707935</td><td>0.9354926</td><td>0.9346178</td><td>1.0000000</td><td>0.9655400</td><td>0.9526691</td><td>0.9641393</td><td>0.9712798</td><td>0.9026508</td><td>0.9671133</td><td>0.9291355</td><td>0.9641194</td><td>0.9514747</td><td>0.9696822</td><td>0.9565769</td><td>0.9539687</td><td>0.9092764</td><td>0.9618331</td></tr>\n",
       "\t<tr><th scope=row>obesity_female_T2D_2</th><td>0.9768566</td><td>0.9706533</td><td>0.9752079</td><td>0.9595443</td><td>0.9606675</td><td>0.9655400</td><td>1.0000000</td><td>0.9639578</td><td>0.9816970</td><td>0.9775315</td><td>0.9243538</td><td>0.9780677</td><td>0.9608887</td><td>0.9780215</td><td>0.9599059</td><td>0.9688914</td><td>0.9721127</td><td>0.9631324</td><td>0.9383182</td><td>0.9790893</td></tr>\n",
       "\t<tr><th scope=row>obesity_female_T2D_3</th><td>0.9600377</td><td>0.9613624</td><td>0.9654511</td><td>0.9544205</td><td>0.9236147</td><td>0.9526691</td><td>0.9639578</td><td>1.0000000</td><td>0.9750413</td><td>0.9565983</td><td>0.8753246</td><td>0.9681691</td><td>0.9224640</td><td>0.9612752</td><td>0.9424294</td><td>0.9523397</td><td>0.9509877</td><td>0.9488548</td><td>0.8954478</td><td>0.9571992</td></tr>\n",
       "\t<tr><th scope=row>obesity_female_T2D_4</th><td>0.9812653</td><td>0.9765342</td><td>0.9796801</td><td>0.9592031</td><td>0.9443196</td><td>0.9641393</td><td>0.9816970</td><td>0.9750413</td><td>1.0000000</td><td>0.9779760</td><td>0.8949666</td><td>0.9822062</td><td>0.9463597</td><td>0.9818172</td><td>0.9610996</td><td>0.9697377</td><td>0.9632370</td><td>0.9662780</td><td>0.9136149</td><td>0.9832512</td></tr>\n",
       "\t<tr><th scope=row>obesity_female_T2D_5</th><td>0.9795525</td><td>0.9711004</td><td>0.9758444</td><td>0.9427295</td><td>0.9423263</td><td>0.9712798</td><td>0.9775315</td><td>0.9565983</td><td>0.9779760</td><td>1.0000000</td><td>0.9019638</td><td>0.9728602</td><td>0.9431324</td><td>0.9799201</td><td>0.9644487</td><td>0.9760143</td><td>0.9621609</td><td>0.9665475</td><td>0.9172942</td><td>0.9774079</td></tr>\n",
       "\t<tr><th scope=row>obesity_female_health_1</th><td>0.8992934</td><td>0.8921040</td><td>0.8974709</td><td>0.8965788</td><td>0.9494183</td><td>0.9026508</td><td>0.9243538</td><td>0.8753246</td><td>0.8949666</td><td>0.9019638</td><td>1.0000000</td><td>0.8969427</td><td>0.9472396</td><td>0.8955078</td><td>0.8865486</td><td>0.8958022</td><td>0.9331543</td><td>0.8821213</td><td>0.9519077</td><td>0.8995089</td></tr>\n",
       "\t<tr><th scope=row>obesity_female_health_2</th><td>0.9781194</td><td>0.9805467</td><td>0.9832772</td><td>0.9576024</td><td>0.9448327</td><td>0.9671133</td><td>0.9780677</td><td>0.9681691</td><td>0.9822062</td><td>0.9728602</td><td>0.8969427</td><td>1.0000000</td><td>0.9432601</td><td>0.9795817</td><td>0.9642079</td><td>0.9705791</td><td>0.9632184</td><td>0.9632953</td><td>0.9126310</td><td>0.9778603</td></tr>\n",
       "\t<tr><th scope=row>obesity_female_health_3</th><td>0.9446544</td><td>0.9387928</td><td>0.9423992</td><td>0.9433909</td><td>0.9683639</td><td>0.9291355</td><td>0.9608887</td><td>0.9224640</td><td>0.9463597</td><td>0.9431324</td><td>0.9472396</td><td>0.9432601</td><td>1.0000000</td><td>0.9437409</td><td>0.9257590</td><td>0.9325834</td><td>0.9564025</td><td>0.9231493</td><td>0.9539935</td><td>0.9483421</td></tr>\n",
       "\t<tr><th scope=row>obesity_female_health_4</th><td>0.9809585</td><td>0.9767547</td><td>0.9791388</td><td>0.9480215</td><td>0.9418305</td><td>0.9641194</td><td>0.9780215</td><td>0.9612752</td><td>0.9818172</td><td>0.9799201</td><td>0.8955078</td><td>0.9795817</td><td>0.9437409</td><td>1.0000000</td><td>0.9679096</td><td>0.9739568</td><td>0.9601227</td><td>0.9683436</td><td>0.9139944</td><td>0.9814533</td></tr>\n",
       "\t<tr><th scope=row>obesity_female_health_5</th><td>0.9612978</td><td>0.9614187</td><td>0.9580145</td><td>0.9200688</td><td>0.9269037</td><td>0.9514747</td><td>0.9599059</td><td>0.9424294</td><td>0.9610996</td><td>0.9644487</td><td>0.8865486</td><td>0.9642079</td><td>0.9257590</td><td>0.9679096</td><td>1.0000000</td><td>0.9615955</td><td>0.9586017</td><td>0.9701058</td><td>0.9028146</td><td>0.9588563</td></tr>\n",
       "\t<tr><th scope=row>obesity_male_health_1</th><td>0.9722784</td><td>0.9717442</td><td>0.9720579</td><td>0.9272152</td><td>0.9328490</td><td>0.9696822</td><td>0.9688914</td><td>0.9523397</td><td>0.9697377</td><td>0.9760143</td><td>0.8958022</td><td>0.9705791</td><td>0.9325834</td><td>0.9739568</td><td>0.9615955</td><td>1.0000000</td><td>0.9630092</td><td>0.9717438</td><td>0.9139497</td><td>0.9749683</td></tr>\n",
       "\t<tr><th scope=row>obesity_male_health_2</th><td>0.9593330</td><td>0.9587899</td><td>0.9596611</td><td>0.9409728</td><td>0.9588953</td><td>0.9565769</td><td>0.9721127</td><td>0.9509877</td><td>0.9632370</td><td>0.9621609</td><td>0.9331543</td><td>0.9632184</td><td>0.9564025</td><td>0.9601227</td><td>0.9586017</td><td>0.9630092</td><td>1.0000000</td><td>0.9618542</td><td>0.9503108</td><td>0.9609615</td></tr>\n",
       "\t<tr><th scope=row>obesity_male_health_3</th><td>0.9630690</td><td>0.9586369</td><td>0.9577646</td><td>0.9243404</td><td>0.9215251</td><td>0.9539687</td><td>0.9631324</td><td>0.9488548</td><td>0.9662780</td><td>0.9665475</td><td>0.8821213</td><td>0.9632953</td><td>0.9231493</td><td>0.9683436</td><td>0.9701058</td><td>0.9717438</td><td>0.9618542</td><td>1.0000000</td><td>0.9012791</td><td>0.9673324</td></tr>\n",
       "\t<tr><th scope=row>obesity_male_health_4</th><td>0.9173232</td><td>0.9122392</td><td>0.9148660</td><td>0.9099160</td><td>0.9560756</td><td>0.9092764</td><td>0.9383182</td><td>0.8954478</td><td>0.9136149</td><td>0.9172942</td><td>0.9519077</td><td>0.9126310</td><td>0.9539935</td><td>0.9139944</td><td>0.9028146</td><td>0.9139497</td><td>0.9503108</td><td>0.9012791</td><td>1.0000000</td><td>0.9196174</td></tr>\n",
       "\t<tr><th scope=row>obesity_male_health_5</th><td>0.9819680</td><td>0.9738118</td><td>0.9769057</td><td>0.9526217</td><td>0.9455177</td><td>0.9618331</td><td>0.9790893</td><td>0.9571992</td><td>0.9832512</td><td>0.9774079</td><td>0.8995089</td><td>0.9778603</td><td>0.9483421</td><td>0.9814533</td><td>0.9588563</td><td>0.9749683</td><td>0.9609615</td><td>0.9673324</td><td>0.9196174</td><td>1.0000000</td></tr>\n",
       "</tbody>\n",
       "</table>\n"
      ],
      "text/latex": [
       "A matrix: 20 x 20 of type dbl\n",
       "\\begin{tabular}{r|llllllllllllllllllll}\n",
       "  & normal\\_female\\_health\\_1 & normal\\_female\\_health\\_2 & normal\\_female\\_health\\_3 & normal\\_female\\_health\\_4 & normal\\_female\\_health\\_5 & obesity\\_female\\_T2D\\_1 & obesity\\_female\\_T2D\\_2 & obesity\\_female\\_T2D\\_3 & obesity\\_female\\_T2D\\_4 & obesity\\_female\\_T2D\\_5 & obesity\\_female\\_health\\_1 & obesity\\_female\\_health\\_2 & obesity\\_female\\_health\\_3 & obesity\\_female\\_health\\_4 & obesity\\_female\\_health\\_5 & obesity\\_male\\_health\\_1 & obesity\\_male\\_health\\_2 & obesity\\_male\\_health\\_3 & obesity\\_male\\_health\\_4 & obesity\\_male\\_health\\_5\\\\\n",
       "\\hline\n",
       "\tnormal\\_female\\_health\\_1 & 1.0000000 & 0.9808163 & 0.9836083 & 0.9516670 & 0.9459646 & 0.9656743 & 0.9768566 & 0.9600377 & 0.9812653 & 0.9795525 & 0.8992934 & 0.9781194 & 0.9446544 & 0.9809585 & 0.9612978 & 0.9722784 & 0.9593330 & 0.9630690 & 0.9173232 & 0.9819680\\\\\n",
       "\tnormal\\_female\\_health\\_2 & 0.9808163 & 1.0000000 & 0.9851352 & 0.9453674 & 0.9409061 & 0.9634243 & 0.9706533 & 0.9613624 & 0.9765342 & 0.9711004 & 0.8921040 & 0.9805467 & 0.9387928 & 0.9767547 & 0.9614187 & 0.9717442 & 0.9587899 & 0.9586369 & 0.9122392 & 0.9738118\\\\\n",
       "\tnormal\\_female\\_health\\_3 & 0.9836083 & 0.9851352 & 1.0000000 & 0.9577909 & 0.9457560 & 0.9707935 & 0.9752079 & 0.9654511 & 0.9796801 & 0.9758444 & 0.8974709 & 0.9832772 & 0.9423992 & 0.9791388 & 0.9580145 & 0.9720579 & 0.9596611 & 0.9577646 & 0.9148660 & 0.9769057\\\\\n",
       "\tnormal\\_female\\_health\\_4 & 0.9516670 & 0.9453674 & 0.9577909 & 1.0000000 & 0.9446801 & 0.9354926 & 0.9595443 & 0.9544205 & 0.9592031 & 0.9427295 & 0.8965788 & 0.9576024 & 0.9433909 & 0.9480215 & 0.9200688 & 0.9272152 & 0.9409728 & 0.9243404 & 0.9099160 & 0.9526217\\\\\n",
       "\tnormal\\_female\\_health\\_5 & 0.9459646 & 0.9409061 & 0.9457560 & 0.9446801 & 1.0000000 & 0.9346178 & 0.9606675 & 0.9236147 & 0.9443196 & 0.9423263 & 0.9494183 & 0.9448327 & 0.9683639 & 0.9418305 & 0.9269037 & 0.9328490 & 0.9588953 & 0.9215251 & 0.9560756 & 0.9455177\\\\\n",
       "\tobesity\\_female\\_T2D\\_1 & 0.9656743 & 0.9634243 & 0.9707935 & 0.9354926 & 0.9346178 & 1.0000000 & 0.9655400 & 0.9526691 & 0.9641393 & 0.9712798 & 0.9026508 & 0.9671133 & 0.9291355 & 0.9641194 & 0.9514747 & 0.9696822 & 0.9565769 & 0.9539687 & 0.9092764 & 0.9618331\\\\\n",
       "\tobesity\\_female\\_T2D\\_2 & 0.9768566 & 0.9706533 & 0.9752079 & 0.9595443 & 0.9606675 & 0.9655400 & 1.0000000 & 0.9639578 & 0.9816970 & 0.9775315 & 0.9243538 & 0.9780677 & 0.9608887 & 0.9780215 & 0.9599059 & 0.9688914 & 0.9721127 & 0.9631324 & 0.9383182 & 0.9790893\\\\\n",
       "\tobesity\\_female\\_T2D\\_3 & 0.9600377 & 0.9613624 & 0.9654511 & 0.9544205 & 0.9236147 & 0.9526691 & 0.9639578 & 1.0000000 & 0.9750413 & 0.9565983 & 0.8753246 & 0.9681691 & 0.9224640 & 0.9612752 & 0.9424294 & 0.9523397 & 0.9509877 & 0.9488548 & 0.8954478 & 0.9571992\\\\\n",
       "\tobesity\\_female\\_T2D\\_4 & 0.9812653 & 0.9765342 & 0.9796801 & 0.9592031 & 0.9443196 & 0.9641393 & 0.9816970 & 0.9750413 & 1.0000000 & 0.9779760 & 0.8949666 & 0.9822062 & 0.9463597 & 0.9818172 & 0.9610996 & 0.9697377 & 0.9632370 & 0.9662780 & 0.9136149 & 0.9832512\\\\\n",
       "\tobesity\\_female\\_T2D\\_5 & 0.9795525 & 0.9711004 & 0.9758444 & 0.9427295 & 0.9423263 & 0.9712798 & 0.9775315 & 0.9565983 & 0.9779760 & 1.0000000 & 0.9019638 & 0.9728602 & 0.9431324 & 0.9799201 & 0.9644487 & 0.9760143 & 0.9621609 & 0.9665475 & 0.9172942 & 0.9774079\\\\\n",
       "\tobesity\\_female\\_health\\_1 & 0.8992934 & 0.8921040 & 0.8974709 & 0.8965788 & 0.9494183 & 0.9026508 & 0.9243538 & 0.8753246 & 0.8949666 & 0.9019638 & 1.0000000 & 0.8969427 & 0.9472396 & 0.8955078 & 0.8865486 & 0.8958022 & 0.9331543 & 0.8821213 & 0.9519077 & 0.8995089\\\\\n",
       "\tobesity\\_female\\_health\\_2 & 0.9781194 & 0.9805467 & 0.9832772 & 0.9576024 & 0.9448327 & 0.9671133 & 0.9780677 & 0.9681691 & 0.9822062 & 0.9728602 & 0.8969427 & 1.0000000 & 0.9432601 & 0.9795817 & 0.9642079 & 0.9705791 & 0.9632184 & 0.9632953 & 0.9126310 & 0.9778603\\\\\n",
       "\tobesity\\_female\\_health\\_3 & 0.9446544 & 0.9387928 & 0.9423992 & 0.9433909 & 0.9683639 & 0.9291355 & 0.9608887 & 0.9224640 & 0.9463597 & 0.9431324 & 0.9472396 & 0.9432601 & 1.0000000 & 0.9437409 & 0.9257590 & 0.9325834 & 0.9564025 & 0.9231493 & 0.9539935 & 0.9483421\\\\\n",
       "\tobesity\\_female\\_health\\_4 & 0.9809585 & 0.9767547 & 0.9791388 & 0.9480215 & 0.9418305 & 0.9641194 & 0.9780215 & 0.9612752 & 0.9818172 & 0.9799201 & 0.8955078 & 0.9795817 & 0.9437409 & 1.0000000 & 0.9679096 & 0.9739568 & 0.9601227 & 0.9683436 & 0.9139944 & 0.9814533\\\\\n",
       "\tobesity\\_female\\_health\\_5 & 0.9612978 & 0.9614187 & 0.9580145 & 0.9200688 & 0.9269037 & 0.9514747 & 0.9599059 & 0.9424294 & 0.9610996 & 0.9644487 & 0.8865486 & 0.9642079 & 0.9257590 & 0.9679096 & 1.0000000 & 0.9615955 & 0.9586017 & 0.9701058 & 0.9028146 & 0.9588563\\\\\n",
       "\tobesity\\_male\\_health\\_1 & 0.9722784 & 0.9717442 & 0.9720579 & 0.9272152 & 0.9328490 & 0.9696822 & 0.9688914 & 0.9523397 & 0.9697377 & 0.9760143 & 0.8958022 & 0.9705791 & 0.9325834 & 0.9739568 & 0.9615955 & 1.0000000 & 0.9630092 & 0.9717438 & 0.9139497 & 0.9749683\\\\\n",
       "\tobesity\\_male\\_health\\_2 & 0.9593330 & 0.9587899 & 0.9596611 & 0.9409728 & 0.9588953 & 0.9565769 & 0.9721127 & 0.9509877 & 0.9632370 & 0.9621609 & 0.9331543 & 0.9632184 & 0.9564025 & 0.9601227 & 0.9586017 & 0.9630092 & 1.0000000 & 0.9618542 & 0.9503108 & 0.9609615\\\\\n",
       "\tobesity\\_male\\_health\\_3 & 0.9630690 & 0.9586369 & 0.9577646 & 0.9243404 & 0.9215251 & 0.9539687 & 0.9631324 & 0.9488548 & 0.9662780 & 0.9665475 & 0.8821213 & 0.9632953 & 0.9231493 & 0.9683436 & 0.9701058 & 0.9717438 & 0.9618542 & 1.0000000 & 0.9012791 & 0.9673324\\\\\n",
       "\tobesity\\_male\\_health\\_4 & 0.9173232 & 0.9122392 & 0.9148660 & 0.9099160 & 0.9560756 & 0.9092764 & 0.9383182 & 0.8954478 & 0.9136149 & 0.9172942 & 0.9519077 & 0.9126310 & 0.9539935 & 0.9139944 & 0.9028146 & 0.9139497 & 0.9503108 & 0.9012791 & 1.0000000 & 0.9196174\\\\\n",
       "\tobesity\\_male\\_health\\_5 & 0.9819680 & 0.9738118 & 0.9769057 & 0.9526217 & 0.9455177 & 0.9618331 & 0.9790893 & 0.9571992 & 0.9832512 & 0.9774079 & 0.8995089 & 0.9778603 & 0.9483421 & 0.9814533 & 0.9588563 & 0.9749683 & 0.9609615 & 0.9673324 & 0.9196174 & 1.0000000\\\\\n",
       "\\end{tabular}\n"
      ],
      "text/markdown": [
       "\n",
       "A matrix: 20 x 20 of type dbl\n",
       "\n",
       "| <!--/--> | normal_female_health_1 | normal_female_health_2 | normal_female_health_3 | normal_female_health_4 | normal_female_health_5 | obesity_female_T2D_1 | obesity_female_T2D_2 | obesity_female_T2D_3 | obesity_female_T2D_4 | obesity_female_T2D_5 | obesity_female_health_1 | obesity_female_health_2 | obesity_female_health_3 | obesity_female_health_4 | obesity_female_health_5 | obesity_male_health_1 | obesity_male_health_2 | obesity_male_health_3 | obesity_male_health_4 | obesity_male_health_5 |\n",
       "|---|---|---|---|---|---|---|---|---|---|---|---|---|---|---|---|---|---|---|---|---|\n",
       "| normal_female_health_1 | 1.0000000 | 0.9808163 | 0.9836083 | 0.9516670 | 0.9459646 | 0.9656743 | 0.9768566 | 0.9600377 | 0.9812653 | 0.9795525 | 0.8992934 | 0.9781194 | 0.9446544 | 0.9809585 | 0.9612978 | 0.9722784 | 0.9593330 | 0.9630690 | 0.9173232 | 0.9819680 |\n",
       "| normal_female_health_2 | 0.9808163 | 1.0000000 | 0.9851352 | 0.9453674 | 0.9409061 | 0.9634243 | 0.9706533 | 0.9613624 | 0.9765342 | 0.9711004 | 0.8921040 | 0.9805467 | 0.9387928 | 0.9767547 | 0.9614187 | 0.9717442 | 0.9587899 | 0.9586369 | 0.9122392 | 0.9738118 |\n",
       "| normal_female_health_3 | 0.9836083 | 0.9851352 | 1.0000000 | 0.9577909 | 0.9457560 | 0.9707935 | 0.9752079 | 0.9654511 | 0.9796801 | 0.9758444 | 0.8974709 | 0.9832772 | 0.9423992 | 0.9791388 | 0.9580145 | 0.9720579 | 0.9596611 | 0.9577646 | 0.9148660 | 0.9769057 |\n",
       "| normal_female_health_4 | 0.9516670 | 0.9453674 | 0.9577909 | 1.0000000 | 0.9446801 | 0.9354926 | 0.9595443 | 0.9544205 | 0.9592031 | 0.9427295 | 0.8965788 | 0.9576024 | 0.9433909 | 0.9480215 | 0.9200688 | 0.9272152 | 0.9409728 | 0.9243404 | 0.9099160 | 0.9526217 |\n",
       "| normal_female_health_5 | 0.9459646 | 0.9409061 | 0.9457560 | 0.9446801 | 1.0000000 | 0.9346178 | 0.9606675 | 0.9236147 | 0.9443196 | 0.9423263 | 0.9494183 | 0.9448327 | 0.9683639 | 0.9418305 | 0.9269037 | 0.9328490 | 0.9588953 | 0.9215251 | 0.9560756 | 0.9455177 |\n",
       "| obesity_female_T2D_1 | 0.9656743 | 0.9634243 | 0.9707935 | 0.9354926 | 0.9346178 | 1.0000000 | 0.9655400 | 0.9526691 | 0.9641393 | 0.9712798 | 0.9026508 | 0.9671133 | 0.9291355 | 0.9641194 | 0.9514747 | 0.9696822 | 0.9565769 | 0.9539687 | 0.9092764 | 0.9618331 |\n",
       "| obesity_female_T2D_2 | 0.9768566 | 0.9706533 | 0.9752079 | 0.9595443 | 0.9606675 | 0.9655400 | 1.0000000 | 0.9639578 | 0.9816970 | 0.9775315 | 0.9243538 | 0.9780677 | 0.9608887 | 0.9780215 | 0.9599059 | 0.9688914 | 0.9721127 | 0.9631324 | 0.9383182 | 0.9790893 |\n",
       "| obesity_female_T2D_3 | 0.9600377 | 0.9613624 | 0.9654511 | 0.9544205 | 0.9236147 | 0.9526691 | 0.9639578 | 1.0000000 | 0.9750413 | 0.9565983 | 0.8753246 | 0.9681691 | 0.9224640 | 0.9612752 | 0.9424294 | 0.9523397 | 0.9509877 | 0.9488548 | 0.8954478 | 0.9571992 |\n",
       "| obesity_female_T2D_4 | 0.9812653 | 0.9765342 | 0.9796801 | 0.9592031 | 0.9443196 | 0.9641393 | 0.9816970 | 0.9750413 | 1.0000000 | 0.9779760 | 0.8949666 | 0.9822062 | 0.9463597 | 0.9818172 | 0.9610996 | 0.9697377 | 0.9632370 | 0.9662780 | 0.9136149 | 0.9832512 |\n",
       "| obesity_female_T2D_5 | 0.9795525 | 0.9711004 | 0.9758444 | 0.9427295 | 0.9423263 | 0.9712798 | 0.9775315 | 0.9565983 | 0.9779760 | 1.0000000 | 0.9019638 | 0.9728602 | 0.9431324 | 0.9799201 | 0.9644487 | 0.9760143 | 0.9621609 | 0.9665475 | 0.9172942 | 0.9774079 |\n",
       "| obesity_female_health_1 | 0.8992934 | 0.8921040 | 0.8974709 | 0.8965788 | 0.9494183 | 0.9026508 | 0.9243538 | 0.8753246 | 0.8949666 | 0.9019638 | 1.0000000 | 0.8969427 | 0.9472396 | 0.8955078 | 0.8865486 | 0.8958022 | 0.9331543 | 0.8821213 | 0.9519077 | 0.8995089 |\n",
       "| obesity_female_health_2 | 0.9781194 | 0.9805467 | 0.9832772 | 0.9576024 | 0.9448327 | 0.9671133 | 0.9780677 | 0.9681691 | 0.9822062 | 0.9728602 | 0.8969427 | 1.0000000 | 0.9432601 | 0.9795817 | 0.9642079 | 0.9705791 | 0.9632184 | 0.9632953 | 0.9126310 | 0.9778603 |\n",
       "| obesity_female_health_3 | 0.9446544 | 0.9387928 | 0.9423992 | 0.9433909 | 0.9683639 | 0.9291355 | 0.9608887 | 0.9224640 | 0.9463597 | 0.9431324 | 0.9472396 | 0.9432601 | 1.0000000 | 0.9437409 | 0.9257590 | 0.9325834 | 0.9564025 | 0.9231493 | 0.9539935 | 0.9483421 |\n",
       "| obesity_female_health_4 | 0.9809585 | 0.9767547 | 0.9791388 | 0.9480215 | 0.9418305 | 0.9641194 | 0.9780215 | 0.9612752 | 0.9818172 | 0.9799201 | 0.8955078 | 0.9795817 | 0.9437409 | 1.0000000 | 0.9679096 | 0.9739568 | 0.9601227 | 0.9683436 | 0.9139944 | 0.9814533 |\n",
       "| obesity_female_health_5 | 0.9612978 | 0.9614187 | 0.9580145 | 0.9200688 | 0.9269037 | 0.9514747 | 0.9599059 | 0.9424294 | 0.9610996 | 0.9644487 | 0.8865486 | 0.9642079 | 0.9257590 | 0.9679096 | 1.0000000 | 0.9615955 | 0.9586017 | 0.9701058 | 0.9028146 | 0.9588563 |\n",
       "| obesity_male_health_1 | 0.9722784 | 0.9717442 | 0.9720579 | 0.9272152 | 0.9328490 | 0.9696822 | 0.9688914 | 0.9523397 | 0.9697377 | 0.9760143 | 0.8958022 | 0.9705791 | 0.9325834 | 0.9739568 | 0.9615955 | 1.0000000 | 0.9630092 | 0.9717438 | 0.9139497 | 0.9749683 |\n",
       "| obesity_male_health_2 | 0.9593330 | 0.9587899 | 0.9596611 | 0.9409728 | 0.9588953 | 0.9565769 | 0.9721127 | 0.9509877 | 0.9632370 | 0.9621609 | 0.9331543 | 0.9632184 | 0.9564025 | 0.9601227 | 0.9586017 | 0.9630092 | 1.0000000 | 0.9618542 | 0.9503108 | 0.9609615 |\n",
       "| obesity_male_health_3 | 0.9630690 | 0.9586369 | 0.9577646 | 0.9243404 | 0.9215251 | 0.9539687 | 0.9631324 | 0.9488548 | 0.9662780 | 0.9665475 | 0.8821213 | 0.9632953 | 0.9231493 | 0.9683436 | 0.9701058 | 0.9717438 | 0.9618542 | 1.0000000 | 0.9012791 | 0.9673324 |\n",
       "| obesity_male_health_4 | 0.9173232 | 0.9122392 | 0.9148660 | 0.9099160 | 0.9560756 | 0.9092764 | 0.9383182 | 0.8954478 | 0.9136149 | 0.9172942 | 0.9519077 | 0.9126310 | 0.9539935 | 0.9139944 | 0.9028146 | 0.9139497 | 0.9503108 | 0.9012791 | 1.0000000 | 0.9196174 |\n",
       "| obesity_male_health_5 | 0.9819680 | 0.9738118 | 0.9769057 | 0.9526217 | 0.9455177 | 0.9618331 | 0.9790893 | 0.9571992 | 0.9832512 | 0.9774079 | 0.8995089 | 0.9778603 | 0.9483421 | 0.9814533 | 0.9588563 | 0.9749683 | 0.9609615 | 0.9673324 | 0.9196174 | 1.0000000 |\n",
       "\n"
      ],
      "text/plain": [
       "                        normal_female_health_1 normal_female_health_2\n",
       "normal_female_health_1  1.0000000              0.9808163             \n",
       "normal_female_health_2  0.9808163              1.0000000             \n",
       "normal_female_health_3  0.9836083              0.9851352             \n",
       "normal_female_health_4  0.9516670              0.9453674             \n",
       "normal_female_health_5  0.9459646              0.9409061             \n",
       "obesity_female_T2D_1    0.9656743              0.9634243             \n",
       "obesity_female_T2D_2    0.9768566              0.9706533             \n",
       "obesity_female_T2D_3    0.9600377              0.9613624             \n",
       "obesity_female_T2D_4    0.9812653              0.9765342             \n",
       "obesity_female_T2D_5    0.9795525              0.9711004             \n",
       "obesity_female_health_1 0.8992934              0.8921040             \n",
       "obesity_female_health_2 0.9781194              0.9805467             \n",
       "obesity_female_health_3 0.9446544              0.9387928             \n",
       "obesity_female_health_4 0.9809585              0.9767547             \n",
       "obesity_female_health_5 0.9612978              0.9614187             \n",
       "obesity_male_health_1   0.9722784              0.9717442             \n",
       "obesity_male_health_2   0.9593330              0.9587899             \n",
       "obesity_male_health_3   0.9630690              0.9586369             \n",
       "obesity_male_health_4   0.9173232              0.9122392             \n",
       "obesity_male_health_5   0.9819680              0.9738118             \n",
       "                        normal_female_health_3 normal_female_health_4\n",
       "normal_female_health_1  0.9836083              0.9516670             \n",
       "normal_female_health_2  0.9851352              0.9453674             \n",
       "normal_female_health_3  1.0000000              0.9577909             \n",
       "normal_female_health_4  0.9577909              1.0000000             \n",
       "normal_female_health_5  0.9457560              0.9446801             \n",
       "obesity_female_T2D_1    0.9707935              0.9354926             \n",
       "obesity_female_T2D_2    0.9752079              0.9595443             \n",
       "obesity_female_T2D_3    0.9654511              0.9544205             \n",
       "obesity_female_T2D_4    0.9796801              0.9592031             \n",
       "obesity_female_T2D_5    0.9758444              0.9427295             \n",
       "obesity_female_health_1 0.8974709              0.8965788             \n",
       "obesity_female_health_2 0.9832772              0.9576024             \n",
       "obesity_female_health_3 0.9423992              0.9433909             \n",
       "obesity_female_health_4 0.9791388              0.9480215             \n",
       "obesity_female_health_5 0.9580145              0.9200688             \n",
       "obesity_male_health_1   0.9720579              0.9272152             \n",
       "obesity_male_health_2   0.9596611              0.9409728             \n",
       "obesity_male_health_3   0.9577646              0.9243404             \n",
       "obesity_male_health_4   0.9148660              0.9099160             \n",
       "obesity_male_health_5   0.9769057              0.9526217             \n",
       "                        normal_female_health_5 obesity_female_T2D_1\n",
       "normal_female_health_1  0.9459646              0.9656743           \n",
       "normal_female_health_2  0.9409061              0.9634243           \n",
       "normal_female_health_3  0.9457560              0.9707935           \n",
       "normal_female_health_4  0.9446801              0.9354926           \n",
       "normal_female_health_5  1.0000000              0.9346178           \n",
       "obesity_female_T2D_1    0.9346178              1.0000000           \n",
       "obesity_female_T2D_2    0.9606675              0.9655400           \n",
       "obesity_female_T2D_3    0.9236147              0.9526691           \n",
       "obesity_female_T2D_4    0.9443196              0.9641393           \n",
       "obesity_female_T2D_5    0.9423263              0.9712798           \n",
       "obesity_female_health_1 0.9494183              0.9026508           \n",
       "obesity_female_health_2 0.9448327              0.9671133           \n",
       "obesity_female_health_3 0.9683639              0.9291355           \n",
       "obesity_female_health_4 0.9418305              0.9641194           \n",
       "obesity_female_health_5 0.9269037              0.9514747           \n",
       "obesity_male_health_1   0.9328490              0.9696822           \n",
       "obesity_male_health_2   0.9588953              0.9565769           \n",
       "obesity_male_health_3   0.9215251              0.9539687           \n",
       "obesity_male_health_4   0.9560756              0.9092764           \n",
       "obesity_male_health_5   0.9455177              0.9618331           \n",
       "                        obesity_female_T2D_2 obesity_female_T2D_3\n",
       "normal_female_health_1  0.9768566            0.9600377           \n",
       "normal_female_health_2  0.9706533            0.9613624           \n",
       "normal_female_health_3  0.9752079            0.9654511           \n",
       "normal_female_health_4  0.9595443            0.9544205           \n",
       "normal_female_health_5  0.9606675            0.9236147           \n",
       "obesity_female_T2D_1    0.9655400            0.9526691           \n",
       "obesity_female_T2D_2    1.0000000            0.9639578           \n",
       "obesity_female_T2D_3    0.9639578            1.0000000           \n",
       "obesity_female_T2D_4    0.9816970            0.9750413           \n",
       "obesity_female_T2D_5    0.9775315            0.9565983           \n",
       "obesity_female_health_1 0.9243538            0.8753246           \n",
       "obesity_female_health_2 0.9780677            0.9681691           \n",
       "obesity_female_health_3 0.9608887            0.9224640           \n",
       "obesity_female_health_4 0.9780215            0.9612752           \n",
       "obesity_female_health_5 0.9599059            0.9424294           \n",
       "obesity_male_health_1   0.9688914            0.9523397           \n",
       "obesity_male_health_2   0.9721127            0.9509877           \n",
       "obesity_male_health_3   0.9631324            0.9488548           \n",
       "obesity_male_health_4   0.9383182            0.8954478           \n",
       "obesity_male_health_5   0.9790893            0.9571992           \n",
       "                        obesity_female_T2D_4 obesity_female_T2D_5\n",
       "normal_female_health_1  0.9812653            0.9795525           \n",
       "normal_female_health_2  0.9765342            0.9711004           \n",
       "normal_female_health_3  0.9796801            0.9758444           \n",
       "normal_female_health_4  0.9592031            0.9427295           \n",
       "normal_female_health_5  0.9443196            0.9423263           \n",
       "obesity_female_T2D_1    0.9641393            0.9712798           \n",
       "obesity_female_T2D_2    0.9816970            0.9775315           \n",
       "obesity_female_T2D_3    0.9750413            0.9565983           \n",
       "obesity_female_T2D_4    1.0000000            0.9779760           \n",
       "obesity_female_T2D_5    0.9779760            1.0000000           \n",
       "obesity_female_health_1 0.8949666            0.9019638           \n",
       "obesity_female_health_2 0.9822062            0.9728602           \n",
       "obesity_female_health_3 0.9463597            0.9431324           \n",
       "obesity_female_health_4 0.9818172            0.9799201           \n",
       "obesity_female_health_5 0.9610996            0.9644487           \n",
       "obesity_male_health_1   0.9697377            0.9760143           \n",
       "obesity_male_health_2   0.9632370            0.9621609           \n",
       "obesity_male_health_3   0.9662780            0.9665475           \n",
       "obesity_male_health_4   0.9136149            0.9172942           \n",
       "obesity_male_health_5   0.9832512            0.9774079           \n",
       "                        obesity_female_health_1 obesity_female_health_2\n",
       "normal_female_health_1  0.8992934               0.9781194              \n",
       "normal_female_health_2  0.8921040               0.9805467              \n",
       "normal_female_health_3  0.8974709               0.9832772              \n",
       "normal_female_health_4  0.8965788               0.9576024              \n",
       "normal_female_health_5  0.9494183               0.9448327              \n",
       "obesity_female_T2D_1    0.9026508               0.9671133              \n",
       "obesity_female_T2D_2    0.9243538               0.9780677              \n",
       "obesity_female_T2D_3    0.8753246               0.9681691              \n",
       "obesity_female_T2D_4    0.8949666               0.9822062              \n",
       "obesity_female_T2D_5    0.9019638               0.9728602              \n",
       "obesity_female_health_1 1.0000000               0.8969427              \n",
       "obesity_female_health_2 0.8969427               1.0000000              \n",
       "obesity_female_health_3 0.9472396               0.9432601              \n",
       "obesity_female_health_4 0.8955078               0.9795817              \n",
       "obesity_female_health_5 0.8865486               0.9642079              \n",
       "obesity_male_health_1   0.8958022               0.9705791              \n",
       "obesity_male_health_2   0.9331543               0.9632184              \n",
       "obesity_male_health_3   0.8821213               0.9632953              \n",
       "obesity_male_health_4   0.9519077               0.9126310              \n",
       "obesity_male_health_5   0.8995089               0.9778603              \n",
       "                        obesity_female_health_3 obesity_female_health_4\n",
       "normal_female_health_1  0.9446544               0.9809585              \n",
       "normal_female_health_2  0.9387928               0.9767547              \n",
       "normal_female_health_3  0.9423992               0.9791388              \n",
       "normal_female_health_4  0.9433909               0.9480215              \n",
       "normal_female_health_5  0.9683639               0.9418305              \n",
       "obesity_female_T2D_1    0.9291355               0.9641194              \n",
       "obesity_female_T2D_2    0.9608887               0.9780215              \n",
       "obesity_female_T2D_3    0.9224640               0.9612752              \n",
       "obesity_female_T2D_4    0.9463597               0.9818172              \n",
       "obesity_female_T2D_5    0.9431324               0.9799201              \n",
       "obesity_female_health_1 0.9472396               0.8955078              \n",
       "obesity_female_health_2 0.9432601               0.9795817              \n",
       "obesity_female_health_3 1.0000000               0.9437409              \n",
       "obesity_female_health_4 0.9437409               1.0000000              \n",
       "obesity_female_health_5 0.9257590               0.9679096              \n",
       "obesity_male_health_1   0.9325834               0.9739568              \n",
       "obesity_male_health_2   0.9564025               0.9601227              \n",
       "obesity_male_health_3   0.9231493               0.9683436              \n",
       "obesity_male_health_4   0.9539935               0.9139944              \n",
       "obesity_male_health_5   0.9483421               0.9814533              \n",
       "                        obesity_female_health_5 obesity_male_health_1\n",
       "normal_female_health_1  0.9612978               0.9722784            \n",
       "normal_female_health_2  0.9614187               0.9717442            \n",
       "normal_female_health_3  0.9580145               0.9720579            \n",
       "normal_female_health_4  0.9200688               0.9272152            \n",
       "normal_female_health_5  0.9269037               0.9328490            \n",
       "obesity_female_T2D_1    0.9514747               0.9696822            \n",
       "obesity_female_T2D_2    0.9599059               0.9688914            \n",
       "obesity_female_T2D_3    0.9424294               0.9523397            \n",
       "obesity_female_T2D_4    0.9610996               0.9697377            \n",
       "obesity_female_T2D_5    0.9644487               0.9760143            \n",
       "obesity_female_health_1 0.8865486               0.8958022            \n",
       "obesity_female_health_2 0.9642079               0.9705791            \n",
       "obesity_female_health_3 0.9257590               0.9325834            \n",
       "obesity_female_health_4 0.9679096               0.9739568            \n",
       "obesity_female_health_5 1.0000000               0.9615955            \n",
       "obesity_male_health_1   0.9615955               1.0000000            \n",
       "obesity_male_health_2   0.9586017               0.9630092            \n",
       "obesity_male_health_3   0.9701058               0.9717438            \n",
       "obesity_male_health_4   0.9028146               0.9139497            \n",
       "obesity_male_health_5   0.9588563               0.9749683            \n",
       "                        obesity_male_health_2 obesity_male_health_3\n",
       "normal_female_health_1  0.9593330             0.9630690            \n",
       "normal_female_health_2  0.9587899             0.9586369            \n",
       "normal_female_health_3  0.9596611             0.9577646            \n",
       "normal_female_health_4  0.9409728             0.9243404            \n",
       "normal_female_health_5  0.9588953             0.9215251            \n",
       "obesity_female_T2D_1    0.9565769             0.9539687            \n",
       "obesity_female_T2D_2    0.9721127             0.9631324            \n",
       "obesity_female_T2D_3    0.9509877             0.9488548            \n",
       "obesity_female_T2D_4    0.9632370             0.9662780            \n",
       "obesity_female_T2D_5    0.9621609             0.9665475            \n",
       "obesity_female_health_1 0.9331543             0.8821213            \n",
       "obesity_female_health_2 0.9632184             0.9632953            \n",
       "obesity_female_health_3 0.9564025             0.9231493            \n",
       "obesity_female_health_4 0.9601227             0.9683436            \n",
       "obesity_female_health_5 0.9586017             0.9701058            \n",
       "obesity_male_health_1   0.9630092             0.9717438            \n",
       "obesity_male_health_2   1.0000000             0.9618542            \n",
       "obesity_male_health_3   0.9618542             1.0000000            \n",
       "obesity_male_health_4   0.9503108             0.9012791            \n",
       "obesity_male_health_5   0.9609615             0.9673324            \n",
       "                        obesity_male_health_4 obesity_male_health_5\n",
       "normal_female_health_1  0.9173232             0.9819680            \n",
       "normal_female_health_2  0.9122392             0.9738118            \n",
       "normal_female_health_3  0.9148660             0.9769057            \n",
       "normal_female_health_4  0.9099160             0.9526217            \n",
       "normal_female_health_5  0.9560756             0.9455177            \n",
       "obesity_female_T2D_1    0.9092764             0.9618331            \n",
       "obesity_female_T2D_2    0.9383182             0.9790893            \n",
       "obesity_female_T2D_3    0.8954478             0.9571992            \n",
       "obesity_female_T2D_4    0.9136149             0.9832512            \n",
       "obesity_female_T2D_5    0.9172942             0.9774079            \n",
       "obesity_female_health_1 0.9519077             0.8995089            \n",
       "obesity_female_health_2 0.9126310             0.9778603            \n",
       "obesity_female_health_3 0.9539935             0.9483421            \n",
       "obesity_female_health_4 0.9139944             0.9814533            \n",
       "obesity_female_health_5 0.9028146             0.9588563            \n",
       "obesity_male_health_1   0.9139497             0.9749683            \n",
       "obesity_male_health_2   0.9503108             0.9609615            \n",
       "obesity_male_health_3   0.9012791             0.9673324            \n",
       "obesity_male_health_4   1.0000000             0.9196174            \n",
       "obesity_male_health_5   0.9196174             1.0000000            "
      ]
     },
     "metadata": {},
     "output_type": "display_data"
    }
   ],
   "source": [
    "vsd_test1 <- vst(dds_test1_dt,blind=TRUE)\n",
    "vsd_mat_test1 <- assay(vsd_test1)\n",
    "vsd_cor_test1 <- cor(vsd_mat_test1)\n",
    "vsd_cor_test1"
   ]
  },
  {
   "cell_type": "code",
   "execution_count": 8,
   "metadata": {
    "vscode": {
     "languageId": "r"
    }
   },
   "outputs": [
    {
     "data": {
      "image/png": "[encoded data removed]",
      "text/plain": [
       "plot without title"
      ]
     },
     "metadata": {
      "image/png": {
       "height": 420,
       "width": 420
      }
     },
     "output_type": "display_data"
    }
   ],
   "source": [
    "pheatmap(vsd_cor_test1,annotation = select(meta,body))"
   ]
  },
  {
   "cell_type": "code",
   "execution_count": null,
   "metadata": {
    "vscode": {
     "languageId": "r"
    }
   },
   "outputs": [],
   "source": []
  },
  {
   "cell_type": "code",
   "execution_count": 9,
   "metadata": {
    "vscode": {
     "languageId": "r"
    }
   },
   "outputs": [
    {
     "name": "stderr",
     "output_type": "stream",
     "text": [
      "using pre-existing size factors\n",
      "\n",
      "estimating dispersions\n",
      "\n",
      "gene-wise dispersion estimates\n",
      "\n",
      "mean-dispersion relationship\n",
      "\n",
      "final dispersion estimates\n",
      "\n",
      "fitting model and testing\n",
      "\n",
      "-- replacing outliers and refitting for 1559 genes\n",
      "-- DESeq argument 'minReplicatesForReplace' = 7 \n",
      "-- original counts are preserved in counts(dds)\n",
      "\n",
      "estimating dispersions\n",
      "\n",
      "fitting model and testing\n",
      "\n"
     ]
    }
   ],
   "source": [
    "dds_test1_dt <- DESeq(dds_test1_dt)"
   ]
  },
  {
   "cell_type": "markdown",
   "metadata": {},
   "source": [
    "# 用自带的RAW数据分析\n",
    "---"
   ]
  },
  {
   "cell_type": "markdown",
   "metadata": {},
   "source": [
    "raw结果保存在 data/GSE166047_RAW/ 里面\n",
    "\n",
    "这里存在一个批量导入的问题"
   ]
  },
  {
   "cell_type": "code",
   "execution_count": 10,
   "metadata": {
    "vscode": {
     "languageId": "r"
    }
   },
   "outputs": [],
   "source": [
    "t1_path <- getwd() |> paste(\"/data/GSE166047_RAW/GSM5060703_NW1_S1.dat\",sep=\"\") |> file.path()"
   ]
  },
  {
   "cell_type": "code",
   "execution_count": 11,
   "metadata": {
    "vscode": {
     "languageId": "r"
    }
   },
   "outputs": [
    {
     "data": {
      "text/html": [
       "<table class=\"dataframe\">\n",
       "<caption>A data.frame: 6 x 10</caption>\n",
       "<thead>\n",
       "\t<tr><th></th><th scope=col>V1</th><th scope=col>V2</th><th scope=col>V3</th><th scope=col>V4</th><th scope=col>V5</th><th scope=col>V6</th><th scope=col>V7</th><th scope=col>V8</th><th scope=col>V9</th><th scope=col>V10</th></tr>\n",
       "\t<tr><th></th><th scope=col>&lt;chr&gt;</th><th scope=col>&lt;chr&gt;</th><th scope=col>&lt;chr&gt;</th><th scope=col>&lt;chr&gt;</th><th scope=col>&lt;chr&gt;</th><th scope=col>&lt;chr&gt;</th><th scope=col>&lt;chr&gt;</th><th scope=col>&lt;chr&gt;</th><th scope=col>&lt;chr&gt;</th><th scope=col>&lt;chr&gt;</th></tr>\n",
       "</thead>\n",
       "<tbody>\n",
       "\t<tr><th scope=row>1</th><td>gene_ID        </td><td>gene_name</td><td>locus                </td><td>frags_locus</td><td>frags_expt</td><td>FPKM_THN </td><td>comp_frags_locus</td><td>comp_frags_expt</td><td>FPKM_CHN </td><td>status</td></tr>\n",
       "\t<tr><th scope=row>2</th><td>ENSG00000000003</td><td>TSPAN6   </td><td>X:100627109-100639991</td><td>362        </td><td>13388472  </td><td>13.223452</td><td>333             </td><td>8028726        </td><td>20.284527</td><td>OK    </td></tr>\n",
       "\t<tr><th scope=row>3</th><td>ENSG00000000005</td><td>TNMD     </td><td>X:100584802-100599885</td><td>399        </td><td>13388472  </td><td>31.987774</td><td>326             </td><td>8028726        </td><td>43.582596</td><td>OK    </td></tr>\n",
       "\t<tr><th scope=row>4</th><td>ENSG00000000419</td><td>DPM1     </td><td>20:50934867-50958555 </td><td>339        </td><td>13388472  </td><td>25.697676</td><td>166             </td><td>8028726        </td><td>20.983920</td><td>OK    </td></tr>\n",
       "\t<tr><th scope=row>5</th><td>ENSG00000000457</td><td>SCYL3    </td><td>1:169849631-169894267</td><td>329        </td><td>13388472  </td><td>7.143470 </td><td>158             </td><td>8028726        </td><td>5.720774 </td><td>OK    </td></tr>\n",
       "\t<tr><th scope=row>6</th><td>ENSG00000000460</td><td>C1orf112 </td><td>1:169662007-169854080</td><td>536        </td><td>13388472  </td><td>18.726680</td><td>46              </td><td>8028726        </td><td>2.680021 </td><td>OK    </td></tr>\n",
       "</tbody>\n",
       "</table>\n"
      ],
      "text/latex": [
       "A data.frame: 6 x 10\n",
       "\\begin{tabular}{r|llllllllll}\n",
       "  & V1 & V2 & V3 & V4 & V5 & V6 & V7 & V8 & V9 & V10\\\\\n",
       "  & <chr> & <chr> & <chr> & <chr> & <chr> & <chr> & <chr> & <chr> & <chr> & <chr>\\\\\n",
       "\\hline\n",
       "\t1 & gene\\_ID         & gene\\_name & locus                 & frags\\_locus & frags\\_expt & FPKM\\_THN  & comp\\_frags\\_locus & comp\\_frags\\_expt & FPKM\\_CHN  & status\\\\\n",
       "\t2 & ENSG00000000003 & TSPAN6    & X:100627109-100639991 & 362         & 13388472   & 13.223452 & 333              & 8028726         & 20.284527 & OK    \\\\\n",
       "\t3 & ENSG00000000005 & TNMD      & X:100584802-100599885 & 399         & 13388472   & 31.987774 & 326              & 8028726         & 43.582596 & OK    \\\\\n",
       "\t4 & ENSG00000000419 & DPM1      & 20:50934867-50958555  & 339         & 13388472   & 25.697676 & 166              & 8028726         & 20.983920 & OK    \\\\\n",
       "\t5 & ENSG00000000457 & SCYL3     & 1:169849631-169894267 & 329         & 13388472   & 7.143470  & 158              & 8028726         & 5.720774  & OK    \\\\\n",
       "\t6 & ENSG00000000460 & C1orf112  & 1:169662007-169854080 & 536         & 13388472   & 18.726680 & 46               & 8028726         & 2.680021  & OK    \\\\\n",
       "\\end{tabular}\n"
      ],
      "text/markdown": [
       "\n",
       "A data.frame: 6 x 10\n",
       "\n",
       "| <!--/--> | V1 &lt;chr&gt; | V2 &lt;chr&gt; | V3 &lt;chr&gt; | V4 &lt;chr&gt; | V5 &lt;chr&gt; | V6 &lt;chr&gt; | V7 &lt;chr&gt; | V8 &lt;chr&gt; | V9 &lt;chr&gt; | V10 &lt;chr&gt; |\n",
       "|---|---|---|---|---|---|---|---|---|---|---|\n",
       "| 1 | gene_ID         | gene_name | locus                 | frags_locus | frags_expt | FPKM_THN  | comp_frags_locus | comp_frags_expt | FPKM_CHN  | status |\n",
       "| 2 | ENSG00000000003 | TSPAN6    | X:100627109-100639991 | 362         | 13388472   | 13.223452 | 333              | 8028726         | 20.284527 | OK     |\n",
       "| 3 | ENSG00000000005 | TNMD      | X:100584802-100599885 | 399         | 13388472   | 31.987774 | 326              | 8028726         | 43.582596 | OK     |\n",
       "| 4 | ENSG00000000419 | DPM1      | 20:50934867-50958555  | 339         | 13388472   | 25.697676 | 166              | 8028726         | 20.983920 | OK     |\n",
       "| 5 | ENSG00000000457 | SCYL3     | 1:169849631-169894267 | 329         | 13388472   | 7.143470  | 158              | 8028726         | 5.720774  | OK     |\n",
       "| 6 | ENSG00000000460 | C1orf112  | 1:169662007-169854080 | 536         | 13388472   | 18.726680 | 46               | 8028726         | 2.680021  | OK     |\n",
       "\n"
      ],
      "text/plain": [
       "  V1              V2        V3                    V4          V5        \n",
       "1 gene_ID         gene_name locus                 frags_locus frags_expt\n",
       "2 ENSG00000000003 TSPAN6    X:100627109-100639991 362         13388472  \n",
       "3 ENSG00000000005 TNMD      X:100584802-100599885 399         13388472  \n",
       "4 ENSG00000000419 DPM1      20:50934867-50958555  339         13388472  \n",
       "5 ENSG00000000457 SCYL3     1:169849631-169894267 329         13388472  \n",
       "6 ENSG00000000460 C1orf112  1:169662007-169854080 536         13388472  \n",
       "  V6        V7               V8              V9        V10   \n",
       "1 FPKM_THN  comp_frags_locus comp_frags_expt FPKM_CHN  status\n",
       "2 13.223452 333              8028726         20.284527 OK    \n",
       "3 31.987774 326              8028726         43.582596 OK    \n",
       "4 25.697676 166              8028726         20.983920 OK    \n",
       "5 7.143470  158              8028726         5.720774  OK    \n",
       "6 18.726680 46               8028726         2.680021  OK    "
      ]
     },
     "metadata": {},
     "output_type": "display_data"
    }
   ],
   "source": [
    "dt <- read.table(t1_path)\n",
    "head(dt)\n",
    "\n"
   ]
  }
 ],
 "metadata": {
  "kernelspec": {
   "display_name": "R",
   "language": "R",
   "name": "ir"
  },
  "language_info": {
   "codemirror_mode": "r",
   "file_extension": ".r",
   "mimetype": "text/x-r-source",
   "name": "R",
   "pygments_lexer": "r",
   "version": "4.2.2"
  },
  "orig_nbformat": 4
 },
 "nbformat": 4,
 "nbformat_minor": 2
}
