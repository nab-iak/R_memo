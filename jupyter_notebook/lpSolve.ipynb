{
 "cells": [
  {
   "cell_type": "markdown",
   "metadata": {},
   "source": [
    "$$ \n",
    "  X+2Y \\leq 16\\\\\n",
    "  2X+3Y \\leq 9\\\\\n",
    "  X+Y \\leq 8\\\\\n",
    "  find \\ out\\ max(5X+7Y)\\\n",
    "$$"
   ]
  },
  {
   "cell_type": "code",
   "execution_count": 1,
   "metadata": {
    "vscode": {
     "languageId": "r"
    }
   },
   "outputs": [
    {
     "data": {
      "text/plain": [
       "Success: the objective function is 41.6 "
      ]
     },
     "metadata": {},
     "output_type": "display_data"
    },
    {
     "data": {
      "text/html": [
       "<style>\n",
       ".list-inline {list-style: none; margin:0; padding: 0}\n",
       ".list-inline>li {display: inline-block}\n",
       ".list-inline>li:not(:last-child)::after {content: \"\\00b7\"; padding: 0 .5ex}\n",
       "</style>\n",
       "<ol class=list-inline><li>1.6</li><li>4.8</li></ol>\n"
      ],
      "text/latex": [
       "\\begin{enumerate*}\n",
       "\\item 1.6\n",
       "\\item 4.8\n",
       "\\end{enumerate*}\n"
      ],
      "text/markdown": [
       "1. 1.6\n",
       "2. 4.8\n",
       "\n",
       "\n"
      ],
      "text/plain": [
       "[1] 1.6 4.8"
      ]
     },
     "metadata": {},
     "output_type": "display_data"
    }
   ],
   "source": [
    "library(lpSolve) \n",
    "f.obj <- c(5,7)\n",
    "f.con <- matrix(c(1,2,\n",
    "                  2,3,\n",
    "                  1,1), nrow=3)\n",
    "f.dir <- c('<=',\n",
    "           '<=',\n",
    "           '<=')\n",
    "f.rhs <- c(16,9,8)\n",
    "lp('max', f.obj, f.con,f.dir,f.rhs)\n",
    "lp('max', f.obj, f.con,f.dir,f.rhs)$solution"
   ]
  }
 ],
 "metadata": {
  "kernelspec": {
   "display_name": "R",
   "language": "R",
   "name": "ir"
  },
  "language_info": {
   "codemirror_mode": "r",
   "file_extension": ".r",
   "mimetype": "text/x-r-source",
   "name": "R",
   "pygments_lexer": "r",
   "version": "4.2.2"
  },
  "orig_nbformat": 4
 },
 "nbformat": 4,
 "nbformat_minor": 2
}
