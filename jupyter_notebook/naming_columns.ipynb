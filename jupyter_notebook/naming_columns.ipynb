{
 "cells": [
  {
   "cell_type": "markdown",
   "metadata": {},
   "source": [
    "读取数据集"
   ]
  },
  {
   "cell_type": "code",
   "execution_count": null,
   "metadata": {
    "vscode": {
     "languageId": "r"
    }
   },
   "outputs": [],
   "source": [
    "library(tidyverse)\n",
    "dt <- read.csv(file.path(getwd()%>%dirname(),\"data/glue.csv\"))\n",
    "dt <- dt %>%\n",
    "  arrange(Model)\n",
    "dt"
   ]
  },
  {
   "cell_type": "markdown",
   "metadata": {},
   "source": [
    "转变为宽数据集"
   ]
  },
  {
   "cell_type": "code",
   "execution_count": null,
   "metadata": {
    "vscode": {
     "languageId": "r"
    }
   },
   "outputs": [],
   "source": [
    "dt_wider1 <- dt %>%\n",
    "                pivot_wider(\n",
    "                  id_cols = \"Model\",\n",
    "                  names_from = c(\"Task\",\"Encoder\",\"Year\"),\n",
    "                  values_from = \"Score\",\n",
    "                  names_sep=\"_\"\n",
    "                )\n",
    "dt_wider1"
   ]
  },
  {
   "cell_type": "markdown",
   "metadata": {},
   "source": [
    "将宽数据集变为长数据集：\n",
    "在变宽厚，有一些行的变量为NA，这是由于本身没有这个数据的原因\n",
    "因此在恢复为长数据框时这些NA会被保留\n",
    "因此需要na.omit掉"
   ]
  },
  {
   "cell_type": "code",
   "execution_count": null,
   "metadata": {
    "vscode": {
     "languageId": "r"
    }
   },
   "outputs": [],
   "source": [
    "dt_longer1 <- dt_wider1 %>%\n",
    "                  pivot_longer(\n",
    "                    cols = matches(\"_\"),\n",
    "                    names_to = c(\"Task\",\"Encoder\",\"Year\"),\n",
    "                    names_pattern = \"(.*)_(.*)_(.*)\", # pattern order is -> \"Task\",\"Encoder\",\"Year\"\n",
    "                    values_to = \"Score\"\n",
    "                  ) %>%\n",
    "                  arrange(Model) %>%\n",
    "                  na.omit()\n",
    "dt_longer1"
   ]
  },
  {
   "cell_type": "markdown",
   "metadata": {},
   "source": [
    "将Task中的各个变量储存为各自的列表"
   ]
  },
  {
   "cell_type": "code",
   "execution_count": null,
   "metadata": {
    "vscode": {
     "languageId": "r"
    }
   },
   "outputs": [],
   "source": [
    "dt_longer1_2 <- dt_wider1 %>%\n",
    "                  pivot_longer(\n",
    "                    cols = matches(\"_\"),\n",
    "                    names_to = c(\".value\",\"Encoder\",\"Year\"),\n",
    "                    names_pattern = \"(.*)_(.*)_(.*)\"\n",
    "                    # values_to = \"Score\" # 因为各个Task会作为列保存，Score作为value分布储存在各列中，因此无需明明Score的列名\n",
    "                  ) %>%\n",
    "                  arrange(Model) %>%\n",
    "                  na.omit()\n",
    "dt_longer1_2"
   ]
  },
  {
   "cell_type": "markdown",
   "metadata": {},
   "source": [
    "只变宽两列"
   ]
  },
  {
   "cell_type": "code",
   "execution_count": null,
   "metadata": {
    "vscode": {
     "languageId": "r"
    }
   },
   "outputs": [],
   "source": [
    "dt_wider2 <- dt %>%\n",
    "                pivot_wider(\n",
    "                  id_cols = c(\"Model\",\"Task\"),\n",
    "                  names_from = c(\"Encoder\",\"Year\"),\n",
    "                  values_from = \"Score\",\n",
    "                  names_sep=\"_\"\n",
    "                ) \n",
    "dt_wider2"
   ]
  },
  {
   "cell_type": "markdown",
   "metadata": {},
   "source": [
    "将dt_wider2复原为长列表"
   ]
  },
  {
   "cell_type": "code",
   "execution_count": null,
   "metadata": {
    "vscode": {
     "languageId": "r"
    }
   },
   "outputs": [],
   "source": [
    "dt_longer2 <- dt_wider2 %>%\n",
    "                  pivot_longer(\n",
    "                    cols = matches(\"_\"),\n",
    "                    names_to = c(\"Encoder\",\"Year\"),\n",
    "                    names_pattern = \"(.*)_(.*)\",\n",
    "                    values_to = \"Score\"\n",
    "                  ) %>%\n",
    "                  arrange(Model) %>%\n",
    "                  na.omit()\n",
    "dt_longer2"
   ]
  },
  {
   "cell_type": "markdown",
   "metadata": {},
   "source": [
    "将所有的NA替换为0"
   ]
  },
  {
   "cell_type": "code",
   "execution_count": null,
   "metadata": {
    "vscode": {
     "languageId": "r"
    }
   },
   "outputs": [],
   "source": [
    "dt_wider2_na.rm <- dt_wider2 %>%\n",
    "                        mutate_all(~replace_na(.,0)) %>%\n",
    "                        arrange(Model,Task)\n",
    "dt_wider2_na.rm"
   ]
  },
  {
   "cell_type": "markdown",
   "metadata": {},
   "source": [
    "生成一个2018与2019年的平均值的列"
   ]
  },
  {
   "cell_type": "code",
   "execution_count": null,
   "metadata": {
    "vscode": {
     "languageId": "r"
    }
   },
   "outputs": [],
   "source": [
    "dt_wider2_na.rm %>%\n",
    "            select(-c(\"LSTM_2017\",\"LSTM_2018\")) %>%\n",
    "            mutate(\n",
    "              across(\n",
    "                contains(\"_2018\"), \n",
    "                 ~ (. + get(sub(\"_2018\", \"_2019\", cur_column())))/2, \n",
    "                .names = \"{.col}_mean\")\n",
    "              ) %>%\n",
    "            rename_with(\n",
    "              ~ gsub(\"_2018_mean\", \"_mean\", .), \n",
    "              contains(\"_2018_mean\")\n",
    "              ) %>%\n",
    "            arrange(Model,Task)"
   ]
  },
  {
   "cell_type": "markdown",
   "metadata": {},
   "source": [
    "另一种生成平均值列的方法"
   ]
  },
  {
   "cell_type": "code",
   "execution_count": null,
   "metadata": {
    "vscode": {
     "languageId": "r"
    }
   },
   "outputs": [],
   "source": [
    "dt_wider2_na.rm_2 <- dt_wider2_na.rm %>%\n",
    "                          select(-c(LSTM_2017, LSTM_2018)) %>%\n",
    "                          pivot_longer(\n",
    "                            cols = matches(\"_\"),\n",
    "                            names_to = c(\"Encode\",\"Year\"),\n",
    "                            names_pattern = \"(.*)_(.*)\",\n",
    "                            values_to = \"Score\"\n",
    "                          ) \n",
    "dt_wider2_na.rm_2\n",
    "dt_wider2_na.rm_2 %>%\n",
    "  group_by(Model,Task,Encode) %>%\n",
    "  summarize(\n",
    "    mean_Score = mean(Score)\n",
    "  ) "
   ]
  }
 ],
 "metadata": {
  "kernelspec": {
   "display_name": "R",
   "language": "R",
   "name": "ir"
  },
  "language_info": {
   "name": "R"
  },
  "orig_nbformat": 4
 },
 "nbformat": 4,
 "nbformat_minor": 2
}
