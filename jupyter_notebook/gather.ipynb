{
 "cells": [
  {
   "cell_type": "markdown",
   "metadata": {},
   "source": [
    "tidyr::gather()函数很好用，对处理宽数据很有用,但是建议用比较新的pivot_longer()函数"
   ]
  },
  {
   "cell_type": "code",
   "execution_count": 3,
   "metadata": {
    "vscode": {
     "languageId": "r"
    }
   },
   "outputs": [
    {
     "data": {
      "text/html": [
       "<table class=\"dataframe\">\n",
       "<caption>A data.frame: 8 x 5</caption>\n",
       "<thead>\n",
       "\t<tr><th scope=col>A</th><th scope=col>B</th><th scope=col>X</th><th scope=col>Y</th><th scope=col>Z</th></tr>\n",
       "\t<tr><th scope=col>&lt;chr&gt;</th><th scope=col>&lt;chr&gt;</th><th scope=col>&lt;dbl&gt;</th><th scope=col>&lt;dbl&gt;</th><th scope=col>&lt;dbl&gt;</th></tr>\n",
       "</thead>\n",
       "<tbody>\n",
       "\t<tr><td>a</td><td>i</td><td> 1.37095845</td><td> 2.0184237</td><td>-0.2842529</td></tr>\n",
       "\t<tr><td>b</td><td>j</td><td>-0.56469817</td><td>-0.0627141</td><td>-2.6564554</td></tr>\n",
       "\t<tr><td>c</td><td>k</td><td> 0.36312841</td><td> 1.3048697</td><td>-2.4404669</td></tr>\n",
       "\t<tr><td>d</td><td>l</td><td> 0.63286260</td><td> 2.2866454</td><td> 1.3201133</td></tr>\n",
       "\t<tr><td>e</td><td>m</td><td> 0.40426832</td><td>-1.3888607</td><td>-0.3066386</td></tr>\n",
       "\t<tr><td>f</td><td>n</td><td>-0.10612452</td><td>-0.2787888</td><td>-1.7813084</td></tr>\n",
       "\t<tr><td>g</td><td>o</td><td> 1.51152200</td><td>-0.1333213</td><td>-0.1719174</td></tr>\n",
       "\t<tr><td>h</td><td>p</td><td>-0.09465904</td><td> 0.6359504</td><td> 1.2146747</td></tr>\n",
       "</tbody>\n",
       "</table>\n"
      ],
      "text/latex": [
       "A data.frame: 8 x 5\n",
       "\\begin{tabular}{lllll}\n",
       " A & B & X & Y & Z\\\\\n",
       " <chr> & <chr> & <dbl> & <dbl> & <dbl>\\\\\n",
       "\\hline\n",
       "\t a & i &  1.37095845 &  2.0184237 & -0.2842529\\\\\n",
       "\t b & j & -0.56469817 & -0.0627141 & -2.6564554\\\\\n",
       "\t c & k &  0.36312841 &  1.3048697 & -2.4404669\\\\\n",
       "\t d & l &  0.63286260 &  2.2866454 &  1.3201133\\\\\n",
       "\t e & m &  0.40426832 & -1.3888607 & -0.3066386\\\\\n",
       "\t f & n & -0.10612452 & -0.2787888 & -1.7813084\\\\\n",
       "\t g & o &  1.51152200 & -0.1333213 & -0.1719174\\\\\n",
       "\t h & p & -0.09465904 &  0.6359504 &  1.2146747\\\\\n",
       "\\end{tabular}\n"
      ],
      "text/markdown": [
       "\n",
       "A data.frame: 8 x 5\n",
       "\n",
       "| A &lt;chr&gt; | B &lt;chr&gt; | X &lt;dbl&gt; | Y &lt;dbl&gt; | Z &lt;dbl&gt; |\n",
       "|---|---|---|---|---|\n",
       "| a | i |  1.37095845 |  2.0184237 | -0.2842529 |\n",
       "| b | j | -0.56469817 | -0.0627141 | -2.6564554 |\n",
       "| c | k |  0.36312841 |  1.3048697 | -2.4404669 |\n",
       "| d | l |  0.63286260 |  2.2866454 |  1.3201133 |\n",
       "| e | m |  0.40426832 | -1.3888607 | -0.3066386 |\n",
       "| f | n | -0.10612452 | -0.2787888 | -1.7813084 |\n",
       "| g | o |  1.51152200 | -0.1333213 | -0.1719174 |\n",
       "| h | p | -0.09465904 |  0.6359504 |  1.2146747 |\n",
       "\n"
      ],
      "text/plain": [
       "  A B X           Y          Z         \n",
       "1 a i  1.37095845  2.0184237 -0.2842529\n",
       "2 b j -0.56469817 -0.0627141 -2.6564554\n",
       "3 c k  0.36312841  1.3048697 -2.4404669\n",
       "4 d l  0.63286260  2.2866454  1.3201133\n",
       "5 e m  0.40426832 -1.3888607 -0.3066386\n",
       "6 f n -0.10612452 -0.2787888 -1.7813084\n",
       "7 g o  1.51152200 -0.1333213 -0.1719174\n",
       "8 h p -0.09465904  0.6359504  1.2146747"
      ]
     },
     "metadata": {},
     "output_type": "display_data"
    }
   ],
   "source": [
    "set.seed(42)\n",
    "library(tidyr)\n",
    "\n",
    "df <- data.frame(\n",
    "    A = letters[1:8],\n",
    "    B = letters[9:16],\n",
    "    X = rnorm(8,0,1),\n",
    "    Y = rnorm(8,0,1),\n",
    "    Z = rnorm(8,0,1)    \n",
    "    )\n",
    "df"
   ]
  },
  {
   "cell_type": "code",
   "execution_count": 5,
   "metadata": {
    "vscode": {
     "languageId": "r"
    }
   },
   "outputs": [
    {
     "data": {
      "text/html": [
       "<table class=\"dataframe\">\n",
       "<caption>A data.frame: 24 x 4</caption>\n",
       "<thead>\n",
       "\t<tr><th scope=col>A</th><th scope=col>B</th><th scope=col>category</th><th scope=col>number</th></tr>\n",
       "\t<tr><th scope=col>&lt;chr&gt;</th><th scope=col>&lt;chr&gt;</th><th scope=col>&lt;chr&gt;</th><th scope=col>&lt;dbl&gt;</th></tr>\n",
       "</thead>\n",
       "<tbody>\n",
       "\t<tr><td>a</td><td>i</td><td>X</td><td> 1.37095845</td></tr>\n",
       "\t<tr><td>b</td><td>j</td><td>X</td><td>-0.56469817</td></tr>\n",
       "\t<tr><td>c</td><td>k</td><td>X</td><td> 0.36312841</td></tr>\n",
       "\t<tr><td>d</td><td>l</td><td>X</td><td> 0.63286260</td></tr>\n",
       "\t<tr><td>e</td><td>m</td><td>X</td><td> 0.40426832</td></tr>\n",
       "\t<tr><td>f</td><td>n</td><td>X</td><td>-0.10612452</td></tr>\n",
       "\t<tr><td>g</td><td>o</td><td>X</td><td> 1.51152200</td></tr>\n",
       "\t<tr><td>h</td><td>p</td><td>X</td><td>-0.09465904</td></tr>\n",
       "\t<tr><td>a</td><td>i</td><td>Y</td><td> 2.01842371</td></tr>\n",
       "\t<tr><td>b</td><td>j</td><td>Y</td><td>-0.06271410</td></tr>\n",
       "\t<tr><td>c</td><td>k</td><td>Y</td><td> 1.30486965</td></tr>\n",
       "\t<tr><td>d</td><td>l</td><td>Y</td><td> 2.28664539</td></tr>\n",
       "\t<tr><td>e</td><td>m</td><td>Y</td><td>-1.38886070</td></tr>\n",
       "\t<tr><td>f</td><td>n</td><td>Y</td><td>-0.27878877</td></tr>\n",
       "\t<tr><td>g</td><td>o</td><td>Y</td><td>-0.13332134</td></tr>\n",
       "\t<tr><td>h</td><td>p</td><td>Y</td><td> 0.63595040</td></tr>\n",
       "\t<tr><td>a</td><td>i</td><td>Z</td><td>-0.28425292</td></tr>\n",
       "\t<tr><td>b</td><td>j</td><td>Z</td><td>-2.65645542</td></tr>\n",
       "\t<tr><td>c</td><td>k</td><td>Z</td><td>-2.44046693</td></tr>\n",
       "\t<tr><td>d</td><td>l</td><td>Z</td><td> 1.32011335</td></tr>\n",
       "\t<tr><td>e</td><td>m</td><td>Z</td><td>-0.30663859</td></tr>\n",
       "\t<tr><td>f</td><td>n</td><td>Z</td><td>-1.78130843</td></tr>\n",
       "\t<tr><td>g</td><td>o</td><td>Z</td><td>-0.17191736</td></tr>\n",
       "\t<tr><td>h</td><td>p</td><td>Z</td><td> 1.21467470</td></tr>\n",
       "</tbody>\n",
       "</table>\n"
      ],
      "text/latex": [
       "A data.frame: 24 x 4\n",
       "\\begin{tabular}{llll}\n",
       " A & B & category & number\\\\\n",
       " <chr> & <chr> & <chr> & <dbl>\\\\\n",
       "\\hline\n",
       "\t a & i & X &  1.37095845\\\\\n",
       "\t b & j & X & -0.56469817\\\\\n",
       "\t c & k & X &  0.36312841\\\\\n",
       "\t d & l & X &  0.63286260\\\\\n",
       "\t e & m & X &  0.40426832\\\\\n",
       "\t f & n & X & -0.10612452\\\\\n",
       "\t g & o & X &  1.51152200\\\\\n",
       "\t h & p & X & -0.09465904\\\\\n",
       "\t a & i & Y &  2.01842371\\\\\n",
       "\t b & j & Y & -0.06271410\\\\\n",
       "\t c & k & Y &  1.30486965\\\\\n",
       "\t d & l & Y &  2.28664539\\\\\n",
       "\t e & m & Y & -1.38886070\\\\\n",
       "\t f & n & Y & -0.27878877\\\\\n",
       "\t g & o & Y & -0.13332134\\\\\n",
       "\t h & p & Y &  0.63595040\\\\\n",
       "\t a & i & Z & -0.28425292\\\\\n",
       "\t b & j & Z & -2.65645542\\\\\n",
       "\t c & k & Z & -2.44046693\\\\\n",
       "\t d & l & Z &  1.32011335\\\\\n",
       "\t e & m & Z & -0.30663859\\\\\n",
       "\t f & n & Z & -1.78130843\\\\\n",
       "\t g & o & Z & -0.17191736\\\\\n",
       "\t h & p & Z &  1.21467470\\\\\n",
       "\\end{tabular}\n"
      ],
      "text/markdown": [
       "\n",
       "A data.frame: 24 x 4\n",
       "\n",
       "| A &lt;chr&gt; | B &lt;chr&gt; | category &lt;chr&gt; | number &lt;dbl&gt; |\n",
       "|---|---|---|---|\n",
       "| a | i | X |  1.37095845 |\n",
       "| b | j | X | -0.56469817 |\n",
       "| c | k | X |  0.36312841 |\n",
       "| d | l | X |  0.63286260 |\n",
       "| e | m | X |  0.40426832 |\n",
       "| f | n | X | -0.10612452 |\n",
       "| g | o | X |  1.51152200 |\n",
       "| h | p | X | -0.09465904 |\n",
       "| a | i | Y |  2.01842371 |\n",
       "| b | j | Y | -0.06271410 |\n",
       "| c | k | Y |  1.30486965 |\n",
       "| d | l | Y |  2.28664539 |\n",
       "| e | m | Y | -1.38886070 |\n",
       "| f | n | Y | -0.27878877 |\n",
       "| g | o | Y | -0.13332134 |\n",
       "| h | p | Y |  0.63595040 |\n",
       "| a | i | Z | -0.28425292 |\n",
       "| b | j | Z | -2.65645542 |\n",
       "| c | k | Z | -2.44046693 |\n",
       "| d | l | Z |  1.32011335 |\n",
       "| e | m | Z | -0.30663859 |\n",
       "| f | n | Z | -1.78130843 |\n",
       "| g | o | Z | -0.17191736 |\n",
       "| h | p | Z |  1.21467470 |\n",
       "\n"
      ],
      "text/plain": [
       "   A B category number     \n",
       "1  a i X         1.37095845\n",
       "2  b j X        -0.56469817\n",
       "3  c k X         0.36312841\n",
       "4  d l X         0.63286260\n",
       "5  e m X         0.40426832\n",
       "6  f n X        -0.10612452\n",
       "7  g o X         1.51152200\n",
       "8  h p X        -0.09465904\n",
       "9  a i Y         2.01842371\n",
       "10 b j Y        -0.06271410\n",
       "11 c k Y         1.30486965\n",
       "12 d l Y         2.28664539\n",
       "13 e m Y        -1.38886070\n",
       "14 f n Y        -0.27878877\n",
       "15 g o Y        -0.13332134\n",
       "16 h p Y         0.63595040\n",
       "17 a i Z        -0.28425292\n",
       "18 b j Z        -2.65645542\n",
       "19 c k Z        -2.44046693\n",
       "20 d l Z         1.32011335\n",
       "21 e m Z        -0.30663859\n",
       "22 f n Z        -1.78130843\n",
       "23 g o Z        -0.17191736\n",
       "24 h p Z         1.21467470"
      ]
     },
     "metadata": {},
     "output_type": "display_data"
    }
   ],
   "source": [
    "gather(\n",
    "    data = df,\n",
    "    key = category,\n",
    "    value = number,\n",
    "    X, Y, Z\n",
    "    )"
   ]
  }
 ],
 "metadata": {
  "kernelspec": {
   "display_name": "R",
   "language": "R",
   "name": "ir"
  },
  "language_info": {
   "codemirror_mode": "r",
   "file_extension": ".r",
   "mimetype": "text/x-r-source",
   "name": "R",
   "pygments_lexer": "r",
   "version": "4.3.1"
  },
  "orig_nbformat": 4
 },
 "nbformat": 4,
 "nbformat_minor": 2
}
